{
 "cells": [
  {
   "cell_type": "code",
   "execution_count": 1,
   "metadata": {},
   "outputs": [],
   "source": [
    "def dataBufferTo_dict(dataBuffer):\n",
    "    dataBuffer2 = dataBuffer[0] # Remove from list\n",
    "    keys = dataBuffer2[0]\n",
    "    xData = dataBuffer2[2]\n",
    "    yData = dataBuffer2[1]\n",
    "\n",
    "    dataBuffer_dict = {}\n",
    "    for (key, y) in zip(keys, yData):\n",
    "        dataBuffer_dict[key] = y\n",
    "    return keys, xData, dataBuffer_dict\n",
    "\n",
    "captureDataList = []\n",
    "\n",
    "\n",
    "def start_capture(duration, rate, signals):\n",
    "    global captureDataList\n",
    "    import typhoon.api.hil as hil\n",
    "\n",
    "    anag_signals = []\n",
    "    digi_signals = []\n",
    "\n",
    "    for signal in signals:\n",
    "        if signal in hil.get_analog_signals()[0]:\n",
    "            anag_signals.append(signal)\n",
    "        elif signal in hil.get_digital_signals()[0]:\n",
    "            digi_signals.append(signal)\n",
    "        else:\n",
    "            raise Exception(\"'signal' em 'signals' nao eh valido!\")\n",
    "\n",
    "    decimation = 2\n",
    "    n_channels = len(anag_signals)\n",
    "    n_samples  = int(duration*rate)\n",
    "\n",
    "    if len(digi_signals) > 0:\n",
    "        enDigital = True\n",
    "        chSettings = [anag_signals, digi_signals]\n",
    "    else:\n",
    "        enDigital = False\n",
    "        chSettings = anag_signals\n",
    "\n",
    "    cpSettings = [decimation, n_channels, n_samples, enDigital]\n",
    "    trSettings = ['Forced']\n",
    "    \n",
    "    captureDataList = []\n",
    "\n",
    "    hil.start_capture(cpSettings, trSettings, chSettings, captureDataList)\n",
    "\n",
    "\n",
    "def get_capture_results(wait_capture=False):\n",
    "    global captureDataList\n",
    "    import typhoon.api.hil as hil\n",
    "    \n",
    "    if wait_capture == True:\n",
    "        while hil.capture_in_progress():\n",
    "            pass\n",
    "\n",
    "    captureDataTuple = dataBufferTo_dict(captureDataList)\n",
    "    chCaptured = captureDataTuple[2]\n",
    "\n",
    "    chCaptured['time'] = pd.to_timedelta(captureDataTuple[1], unit='s')\n",
    "\n",
    "    df = pd.DataFrame(chCaptured)\n",
    "    df = df.set_index('time')\n",
    "    \n",
    "    return df"
   ]
  },
  {
   "cell_type": "code",
   "execution_count": 2,
   "metadata": {},
   "outputs": [],
   "source": [
    "# def start_capture_and_wait(duration, rate, signals):\n",
    "#     import typhoon.api.hil as hil\n",
    "\n",
    "#     anag_signals = []\n",
    "#     digi_signals = []\n",
    "\n",
    "#     for signal in signals:\n",
    "#         if signal in hil.get_analog_signals()[0]:\n",
    "#             anag_signals.append(signal)\n",
    "#         elif signal in hil.get_digital_signals()[0]:\n",
    "#             digi_signals.append(signal)\n",
    "#         else:\n",
    "#             raise Exception(\"'signal' em 'signals' nao eh valido!\")\n",
    "\n",
    "#     decimation = 2\n",
    "#     n_channels = len(anag_signals)\n",
    "#     n_samples  = int(duration*rate)\n",
    "\n",
    "#     if len(digi_signals) > 0:\n",
    "#         enDigital = True\n",
    "#         chSettings = [anag_signals, digi_signals]\n",
    "#     else:\n",
    "#         enDigital = False\n",
    "#         chSettings = anag_signals\n",
    "\n",
    "#     cpSettings = [decimation, n_channels, n_samples, enDigital]\n",
    "#     trSettings = ['Forced']\n",
    "    \n",
    "#     captureDataList = []  \n",
    "\n",
    "#     hil.start_capture(cpSettings, trSettings, chSettings, captureDataList)\n",
    "\n",
    "#     while hil.capture_in_progress():\n",
    "#         pass    \n",
    "\n",
    "#     captureDataTuple = dataBufferTo_dict(captureDataList)\n",
    "# #     print(captureDataTuple)\n",
    "\n",
    "#     chCaptured = captureDataTuple[2]\n",
    "# #     print(chCaptured)\n",
    "\n",
    "#     chCaptured['time'] = pd.to_timedelta(captureDataTuple[1], unit='s')\n",
    "\n",
    "#     df = pd.DataFrame(chCaptured)\n",
    "#     df = df.set_index('time')\n",
    "    \n",
    "#     return df"
   ]
  },
  {
   "cell_type": "code",
   "execution_count": 2,
   "metadata": {},
   "outputs": [],
   "source": [
    "import numpy as np\n",
    "from numpy.fft import fft\n",
    "\n",
    "def myFFT(t, y):\n",
    "    import numpy as np\n",
    "    from numpy.fft import fft, fftfreq\n",
    "    Y = 2 * np.abs(fft(y)) / y.size\n",
    "    Y = Y[:y.size//2]\n",
    "\n",
    "    Y[0] = Y[0]/2\n",
    "    \n",
    "    f = fftfreq(t.size, t[1] - t[0])\n",
    "    f = f[:y.size//2]\n",
    "    \n",
    "    return (f, Y)\n",
    "\n",
    "\n",
    "def rmsValue(signal):    \n",
    "    return np.sqrt(np.sum(np.power(signal, 2)) / signal.size)\n",
    "\n",
    "\n",
    "def calculateTHD(signal, n_cycles, nh=50):\n",
    "    \n",
    "    signal = np.array(signal)\n",
    "\n",
    "    zh = 2*np.abs(fft(signal))[:signal.size//2] / signal.size\n",
    "\n",
    "    nh_array = np.arange(2, nh, 1)\n",
    "    subHarIndex = nh_array * n_cycles\n",
    "    \n",
    "    fft_fund_values = zh[n_cycles]\n",
    "    \n",
    "    zh2 = zh[subHarIndex]\n",
    "    \n",
    "    THD = 100*np.sqrt(np.sum(np.power(zh2, 2))) / fft_fund_values\n",
    "    \n",
    "    return THD\n",
    "\n",
    "\n",
    "def calculateTRD(signal, I_rated, n_cycles):\n",
    "    signal = np.array(signal)\n",
    "       \n",
    "    zh = 2*np.abs(fft(signal))[:signal.size//2] / signal.size\n",
    "\n",
    "    fft_fund_values = zh[n_cycles]\n",
    "    \n",
    "    fft_fund_values_rms = fft_fund_values/np.sqrt(2)\n",
    "\n",
    "#     size_window = y2[0].size\n",
    "    \n",
    "    i_rms = rmsValue(signal)\n",
    "\n",
    "    TRD = 100 * np.sqrt(np.power(i_rms, 2) - np.power(fft_fund_values_rms, 2)) / I_rated\n",
    "    \n",
    "    return TRD"
   ]
  },
  {
   "cell_type": "markdown",
   "metadata": {},
   "source": [
    "# Pandas Module"
   ]
  },
  {
   "cell_type": "code",
   "execution_count": 4,
   "metadata": {},
   "outputs": [],
   "source": [
    "import matplotlib.pyplot as plt\n",
    "import pandas as pd"
   ]
  },
  {
   "cell_type": "markdown",
   "metadata": {},
   "source": [
    "## Reading a PSIM file"
   ]
  },
  {
   "cell_type": "code",
   "execution_count": 5,
   "metadata": {},
   "outputs": [],
   "source": [
    "df1 = pd.read_csv('PD_12_04_2019.csv')"
   ]
  },
  {
   "cell_type": "code",
   "execution_count": 6,
   "metadata": {},
   "outputs": [
    {
     "data": {
      "text/html": [
       "<div>\n",
       "<style scoped>\n",
       "    .dataframe tbody tr th:only-of-type {\n",
       "        vertical-align: middle;\n",
       "    }\n",
       "\n",
       "    .dataframe tbody tr th {\n",
       "        vertical-align: top;\n",
       "    }\n",
       "\n",
       "    .dataframe thead th {\n",
       "        text-align: right;\n",
       "    }\n",
       "</style>\n",
       "<table border=\"1\" class=\"dataframe\">\n",
       "  <thead>\n",
       "    <tr style=\"text-align: right;\">\n",
       "      <th></th>\n",
       "      <th>Time</th>\n",
       "      <th>I(Ra)</th>\n",
       "      <th>vo</th>\n",
       "      <th>Va</th>\n",
       "      <th>Vab</th>\n",
       "      <th>Vbc</th>\n",
       "      <th>Vca</th>\n",
       "      <th>Vbg</th>\n",
       "      <th>Vcg</th>\n",
       "      <th>Va_r</th>\n",
       "      <th>Vag</th>\n",
       "    </tr>\n",
       "  </thead>\n",
       "  <tbody>\n",
       "    <tr>\n",
       "      <th>0</th>\n",
       "      <td>0.000001</td>\n",
       "      <td>183.905</td>\n",
       "      <td>400.0</td>\n",
       "      <td>0.000377</td>\n",
       "      <td>399.994</td>\n",
       "      <td>-5.684340e-13</td>\n",
       "      <td>-399.994</td>\n",
       "      <td>400.002</td>\n",
       "      <td>400.002</td>\n",
       "      <td>266.662</td>\n",
       "      <td>799.995</td>\n",
       "    </tr>\n",
       "    <tr>\n",
       "      <th>1</th>\n",
       "      <td>0.000002</td>\n",
       "      <td>183.905</td>\n",
       "      <td>400.0</td>\n",
       "      <td>0.000754</td>\n",
       "      <td>399.993</td>\n",
       "      <td>-5.115910e-13</td>\n",
       "      <td>-399.993</td>\n",
       "      <td>400.002</td>\n",
       "      <td>400.002</td>\n",
       "      <td>266.662</td>\n",
       "      <td>799.994</td>\n",
       "    </tr>\n",
       "    <tr>\n",
       "      <th>2</th>\n",
       "      <td>0.000003</td>\n",
       "      <td>183.904</td>\n",
       "      <td>400.0</td>\n",
       "      <td>0.001131</td>\n",
       "      <td>399.992</td>\n",
       "      <td>-4.547470e-13</td>\n",
       "      <td>-399.992</td>\n",
       "      <td>400.002</td>\n",
       "      <td>400.002</td>\n",
       "      <td>266.661</td>\n",
       "      <td>799.993</td>\n",
       "    </tr>\n",
       "    <tr>\n",
       "      <th>3</th>\n",
       "      <td>0.000004</td>\n",
       "      <td>183.904</td>\n",
       "      <td>400.0</td>\n",
       "      <td>0.001508</td>\n",
       "      <td>399.991</td>\n",
       "      <td>-5.684340e-13</td>\n",
       "      <td>-399.991</td>\n",
       "      <td>400.002</td>\n",
       "      <td>400.002</td>\n",
       "      <td>266.660</td>\n",
       "      <td>799.992</td>\n",
       "    </tr>\n",
       "    <tr>\n",
       "      <th>4</th>\n",
       "      <td>0.000005</td>\n",
       "      <td>183.903</td>\n",
       "      <td>400.0</td>\n",
       "      <td>0.001885</td>\n",
       "      <td>399.990</td>\n",
       "      <td>-4.547470e-13</td>\n",
       "      <td>-399.990</td>\n",
       "      <td>400.002</td>\n",
       "      <td>400.002</td>\n",
       "      <td>266.660</td>\n",
       "      <td>799.991</td>\n",
       "    </tr>\n",
       "  </tbody>\n",
       "</table>\n",
       "</div>"
      ],
      "text/plain": [
       "       Time    I(Ra)     vo        Va      Vab           Vbc      Vca  \\\n",
       "0  0.000001  183.905  400.0  0.000377  399.994 -5.684340e-13 -399.994   \n",
       "1  0.000002  183.905  400.0  0.000754  399.993 -5.115910e-13 -399.993   \n",
       "2  0.000003  183.904  400.0  0.001131  399.992 -4.547470e-13 -399.992   \n",
       "3  0.000004  183.904  400.0  0.001508  399.991 -5.684340e-13 -399.991   \n",
       "4  0.000005  183.903  400.0  0.001885  399.990 -4.547470e-13 -399.990   \n",
       "\n",
       "       Vbg      Vcg     Va_r      Vag  \n",
       "0  400.002  400.002  266.662  799.995  \n",
       "1  400.002  400.002  266.662  799.994  \n",
       "2  400.002  400.002  266.661  799.993  \n",
       "3  400.002  400.002  266.660  799.992  \n",
       "4  400.002  400.002  266.660  799.991  "
      ]
     },
     "execution_count": 6,
     "metadata": {},
     "output_type": "execute_result"
    }
   ],
   "source": [
    "df1.head()"
   ]
  },
  {
   "cell_type": "code",
   "execution_count": 7,
   "metadata": {},
   "outputs": [],
   "source": [
    "# https://pandas.pydata.org/pandas-docs/stable/reference/api/pandas.DataFrame.set_index.html\n",
    "df1 = df1.set_index('Time')"
   ]
  },
  {
   "cell_type": "code",
   "execution_count": 8,
   "metadata": {},
   "outputs": [
    {
     "data": {
      "text/html": [
       "<div>\n",
       "<style scoped>\n",
       "    .dataframe tbody tr th:only-of-type {\n",
       "        vertical-align: middle;\n",
       "    }\n",
       "\n",
       "    .dataframe tbody tr th {\n",
       "        vertical-align: top;\n",
       "    }\n",
       "\n",
       "    .dataframe thead th {\n",
       "        text-align: right;\n",
       "    }\n",
       "</style>\n",
       "<table border=\"1\" class=\"dataframe\">\n",
       "  <thead>\n",
       "    <tr style=\"text-align: right;\">\n",
       "      <th></th>\n",
       "      <th>I(Ra)</th>\n",
       "      <th>vo</th>\n",
       "      <th>Va</th>\n",
       "      <th>Vab</th>\n",
       "      <th>Vbc</th>\n",
       "      <th>Vca</th>\n",
       "      <th>Vbg</th>\n",
       "      <th>Vcg</th>\n",
       "      <th>Va_r</th>\n",
       "      <th>Vag</th>\n",
       "    </tr>\n",
       "    <tr>\n",
       "      <th>Time</th>\n",
       "      <th></th>\n",
       "      <th></th>\n",
       "      <th></th>\n",
       "      <th></th>\n",
       "      <th></th>\n",
       "      <th></th>\n",
       "      <th></th>\n",
       "      <th></th>\n",
       "      <th></th>\n",
       "      <th></th>\n",
       "    </tr>\n",
       "  </thead>\n",
       "  <tbody>\n",
       "    <tr>\n",
       "      <th>0.000001</th>\n",
       "      <td>183.905</td>\n",
       "      <td>400.0</td>\n",
       "      <td>0.000377</td>\n",
       "      <td>399.994</td>\n",
       "      <td>-5.684340e-13</td>\n",
       "      <td>-399.994</td>\n",
       "      <td>400.002</td>\n",
       "      <td>400.002</td>\n",
       "      <td>266.662</td>\n",
       "      <td>799.995</td>\n",
       "    </tr>\n",
       "    <tr>\n",
       "      <th>0.000002</th>\n",
       "      <td>183.905</td>\n",
       "      <td>400.0</td>\n",
       "      <td>0.000754</td>\n",
       "      <td>399.993</td>\n",
       "      <td>-5.115910e-13</td>\n",
       "      <td>-399.993</td>\n",
       "      <td>400.002</td>\n",
       "      <td>400.002</td>\n",
       "      <td>266.662</td>\n",
       "      <td>799.994</td>\n",
       "    </tr>\n",
       "    <tr>\n",
       "      <th>0.000003</th>\n",
       "      <td>183.904</td>\n",
       "      <td>400.0</td>\n",
       "      <td>0.001131</td>\n",
       "      <td>399.992</td>\n",
       "      <td>-4.547470e-13</td>\n",
       "      <td>-399.992</td>\n",
       "      <td>400.002</td>\n",
       "      <td>400.002</td>\n",
       "      <td>266.661</td>\n",
       "      <td>799.993</td>\n",
       "    </tr>\n",
       "    <tr>\n",
       "      <th>0.000004</th>\n",
       "      <td>183.904</td>\n",
       "      <td>400.0</td>\n",
       "      <td>0.001508</td>\n",
       "      <td>399.991</td>\n",
       "      <td>-5.684340e-13</td>\n",
       "      <td>-399.991</td>\n",
       "      <td>400.002</td>\n",
       "      <td>400.002</td>\n",
       "      <td>266.660</td>\n",
       "      <td>799.992</td>\n",
       "    </tr>\n",
       "    <tr>\n",
       "      <th>0.000005</th>\n",
       "      <td>183.903</td>\n",
       "      <td>400.0</td>\n",
       "      <td>0.001885</td>\n",
       "      <td>399.990</td>\n",
       "      <td>-4.547470e-13</td>\n",
       "      <td>-399.990</td>\n",
       "      <td>400.002</td>\n",
       "      <td>400.002</td>\n",
       "      <td>266.660</td>\n",
       "      <td>799.991</td>\n",
       "    </tr>\n",
       "  </tbody>\n",
       "</table>\n",
       "</div>"
      ],
      "text/plain": [
       "            I(Ra)     vo        Va      Vab           Vbc      Vca      Vbg  \\\n",
       "Time                                                                          \n",
       "0.000001  183.905  400.0  0.000377  399.994 -5.684340e-13 -399.994  400.002   \n",
       "0.000002  183.905  400.0  0.000754  399.993 -5.115910e-13 -399.993  400.002   \n",
       "0.000003  183.904  400.0  0.001131  399.992 -4.547470e-13 -399.992  400.002   \n",
       "0.000004  183.904  400.0  0.001508  399.991 -5.684340e-13 -399.991  400.002   \n",
       "0.000005  183.903  400.0  0.001885  399.990 -4.547470e-13 -399.990  400.002   \n",
       "\n",
       "              Vcg     Va_r      Vag  \n",
       "Time                                 \n",
       "0.000001  400.002  266.662  799.995  \n",
       "0.000002  400.002  266.662  799.994  \n",
       "0.000003  400.002  266.661  799.993  \n",
       "0.000004  400.002  266.660  799.992  \n",
       "0.000005  400.002  266.660  799.991  "
      ]
     },
     "execution_count": 8,
     "metadata": {},
     "output_type": "execute_result"
    }
   ],
   "source": [
    "df1.head()"
   ]
  },
  {
   "cell_type": "code",
   "execution_count": 9,
   "metadata": {},
   "outputs": [
    {
     "data": {
      "text/html": [
       "<div>\n",
       "<style scoped>\n",
       "    .dataframe tbody tr th:only-of-type {\n",
       "        vertical-align: middle;\n",
       "    }\n",
       "\n",
       "    .dataframe tbody tr th {\n",
       "        vertical-align: top;\n",
       "    }\n",
       "\n",
       "    .dataframe thead th {\n",
       "        text-align: right;\n",
       "    }\n",
       "</style>\n",
       "<table border=\"1\" class=\"dataframe\">\n",
       "  <thead>\n",
       "    <tr style=\"text-align: right;\">\n",
       "      <th></th>\n",
       "      <th>I(Ra)</th>\n",
       "      <th>vo</th>\n",
       "      <th>Va</th>\n",
       "      <th>Vab</th>\n",
       "      <th>Vbc</th>\n",
       "      <th>Vca</th>\n",
       "      <th>Vbg</th>\n",
       "      <th>Vcg</th>\n",
       "      <th>Va_r</th>\n",
       "      <th>Vag</th>\n",
       "    </tr>\n",
       "    <tr>\n",
       "      <th>Time</th>\n",
       "      <th></th>\n",
       "      <th></th>\n",
       "      <th></th>\n",
       "      <th></th>\n",
       "      <th></th>\n",
       "      <th></th>\n",
       "      <th></th>\n",
       "      <th></th>\n",
       "      <th></th>\n",
       "      <th></th>\n",
       "    </tr>\n",
       "  </thead>\n",
       "  <tbody>\n",
       "    <tr>\n",
       "      <th>0.099996</th>\n",
       "      <td>183.3380</td>\n",
       "      <td>398.924</td>\n",
       "      <td>-1.507960e-03</td>\n",
       "      <td>398.760</td>\n",
       "      <td>-3.979040e-13</td>\n",
       "      <td>-398.76</td>\n",
       "      <td>398.926</td>\n",
       "      <td>398.926</td>\n",
       "      <td>265.84</td>\n",
       "      <td>797.686</td>\n",
       "    </tr>\n",
       "    <tr>\n",
       "      <th>0.099997</th>\n",
       "      <td>183.3380</td>\n",
       "      <td>398.926</td>\n",
       "      <td>-1.130970e-03</td>\n",
       "      <td>398.760</td>\n",
       "      <td>-4.547470e-13</td>\n",
       "      <td>-398.76</td>\n",
       "      <td>398.927</td>\n",
       "      <td>398.927</td>\n",
       "      <td>265.84</td>\n",
       "      <td>797.687</td>\n",
       "    </tr>\n",
       "    <tr>\n",
       "      <th>0.099998</th>\n",
       "      <td>183.3380</td>\n",
       "      <td>398.927</td>\n",
       "      <td>-7.539820e-04</td>\n",
       "      <td>398.760</td>\n",
       "      <td>-5.684340e-13</td>\n",
       "      <td>-398.76</td>\n",
       "      <td>398.929</td>\n",
       "      <td>398.929</td>\n",
       "      <td>265.84</td>\n",
       "      <td>797.689</td>\n",
       "    </tr>\n",
       "    <tr>\n",
       "      <th>0.099999</th>\n",
       "      <td>183.3380</td>\n",
       "      <td>398.928</td>\n",
       "      <td>-3.769910e-04</td>\n",
       "      <td>398.760</td>\n",
       "      <td>-6.252780e-13</td>\n",
       "      <td>-398.76</td>\n",
       "      <td>398.930</td>\n",
       "      <td>398.930</td>\n",
       "      <td>265.84</td>\n",
       "      <td>797.690</td>\n",
       "    </tr>\n",
       "    <tr>\n",
       "      <th>0.100000</th>\n",
       "      <td>91.6691</td>\n",
       "      <td>398.929</td>\n",
       "      <td>2.990530e-11</td>\n",
       "      <td>398.761</td>\n",
       "      <td>-3.987610e+02</td>\n",
       "      <td>0.00</td>\n",
       "      <td>398.933</td>\n",
       "      <td>797.694</td>\n",
       "      <td>132.92</td>\n",
       "      <td>797.694</td>\n",
       "    </tr>\n",
       "  </tbody>\n",
       "</table>\n",
       "</div>"
      ],
      "text/plain": [
       "             I(Ra)       vo            Va      Vab           Vbc     Vca  \\\n",
       "Time                                                                       \n",
       "0.099996  183.3380  398.924 -1.507960e-03  398.760 -3.979040e-13 -398.76   \n",
       "0.099997  183.3380  398.926 -1.130970e-03  398.760 -4.547470e-13 -398.76   \n",
       "0.099998  183.3380  398.927 -7.539820e-04  398.760 -5.684340e-13 -398.76   \n",
       "0.099999  183.3380  398.928 -3.769910e-04  398.760 -6.252780e-13 -398.76   \n",
       "0.100000   91.6691  398.929  2.990530e-11  398.761 -3.987610e+02    0.00   \n",
       "\n",
       "              Vbg      Vcg    Va_r      Vag  \n",
       "Time                                         \n",
       "0.099996  398.926  398.926  265.84  797.686  \n",
       "0.099997  398.927  398.927  265.84  797.687  \n",
       "0.099998  398.929  398.929  265.84  797.689  \n",
       "0.099999  398.930  398.930  265.84  797.690  \n",
       "0.100000  398.933  797.694  132.92  797.694  "
      ]
     },
     "execution_count": 9,
     "metadata": {},
     "output_type": "execute_result"
    }
   ],
   "source": [
    "df1.tail()"
   ]
  },
  {
   "cell_type": "code",
   "execution_count": 10,
   "metadata": {},
   "outputs": [],
   "source": [
    "Vab = df1['Vab']\n",
    "Vbc = df1['Vbc']"
   ]
  },
  {
   "cell_type": "code",
   "execution_count": 11,
   "metadata": {},
   "outputs": [
    {
     "data": {
      "text/plain": [
       "Time\n",
       "0.000001    399.994\n",
       "0.000002    399.993\n",
       "0.000003    399.992\n",
       "0.000004    399.991\n",
       "0.000005    399.990\n",
       "Name: Vab, dtype: float64"
      ]
     },
     "execution_count": 11,
     "metadata": {},
     "output_type": "execute_result"
    }
   ],
   "source": [
    "Vab.head()"
   ]
  },
  {
   "cell_type": "code",
   "execution_count": 12,
   "metadata": {},
   "outputs": [
    {
     "data": {
      "image/png": "[encoded data removed]",
      "text/plain": [
       "<Figure size 432x288 with 2 Axes>"
      ]
     },
     "metadata": {
      "needs_background": "light"
     },
     "output_type": "display_data"
    }
   ],
   "source": [
    "plt.subplot(211)\n",
    "plt.plot(Vab.index, Vab)\n",
    "plt.grid(True)\n",
    "plt.subplot(212)\n",
    "plt.plot(Vbc.index, Vbc)\n",
    "plt.grid(True)\n",
    "plt.show()"
   ]
  },
  {
   "cell_type": "code",
   "execution_count": 13,
   "metadata": {},
   "outputs": [],
   "source": [
    "time = np.array(Vab.index)\n",
    "Vab_a = np.array(Vab)\n",
    "\n",
    "f, Y = myFFT(time, Vab_a)"
   ]
  },
  {
   "cell_type": "code",
   "execution_count": 14,
   "metadata": {},
   "outputs": [
    {
     "data": {
      "text/plain": [
       "(-1000, 200000)"
      ]
     },
     "execution_count": 14,
     "metadata": {},
     "output_type": "execute_result"
    },
    {
     "data": {
      "image/png": "[encoded data removed]",
      "text/plain": [
       "<Figure size 432x288 with 1 Axes>"
      ]
     },
     "metadata": {
      "needs_background": "light"
     },
     "output_type": "display_data"
    }
   ],
   "source": [
    "plt.plot(f, Y)\n",
    "plt.xlim(-1000, 200000)"
   ]
  },
  {
   "cell_type": "code",
   "execution_count": 15,
   "metadata": {},
   "outputs": [
    {
     "data": {
      "text/plain": [
       "(0, 120)"
      ]
     },
     "execution_count": 15,
     "metadata": {},
     "output_type": "execute_result"
    },
    {
     "data": {
      "image/png": "[encoded data removed]",
      "text/plain": [
       "<Figure size 432x288 with 1 Axes>"
      ]
     },
     "metadata": {
      "needs_background": "light"
     },
     "output_type": "display_data"
    }
   ],
   "source": [
    "plt.plot(f, Y)\n",
    "plt.xlim(-1000, 200000)\n",
    "plt.ylim(0, 120)"
   ]
  },
  {
   "cell_type": "code",
   "execution_count": 16,
   "metadata": {},
   "outputs": [
    {
     "data": {
      "text/plain": [
       "(-10, 100)"
      ]
     },
     "execution_count": 16,
     "metadata": {},
     "output_type": "execute_result"
    },
    {
     "data": {
      "image/png": "[encoded data removed]",
      "text/plain": [
       "<Figure size 432x288 with 1 Axes>"
      ]
     },
     "metadata": {
      "needs_background": "light"
     },
     "output_type": "display_data"
    }
   ],
   "source": [
    "plt.plot(f, Y)\n",
    "plt.xlim(-10, 100)"
   ]
  },
  {
   "cell_type": "code",
   "execution_count": 17,
   "metadata": {},
   "outputs": [
    {
     "data": {
      "text/plain": [
       "(-10, 100)"
      ]
     },
     "execution_count": 17,
     "metadata": {},
     "output_type": "execute_result"
    },
    {
     "data": {
      "image/png": "[encoded data removed]",
      "text/plain": [
       "<Figure size 432x288 with 1 Axes>"
      ]
     },
     "metadata": {
      "needs_background": "light"
     },
     "output_type": "display_data"
    }
   ],
   "source": [
    "time = np.array(Vbc.index)\n",
    "Vbc_a = np.array(Vbc)\n",
    "\n",
    "f, Y = myFFT(time, Vbc_a)\n",
    "plt.plot(f, Y)\n",
    "plt.xlim(-10, 100)"
   ]
  },
  {
   "cell_type": "markdown",
   "metadata": {},
   "source": [
    "## TRD and THD das medidas do DataFrame\n",
    "\n",
    "### Cálculo da THD\n",
    "\n",
    "$V = 2 \\times V_{ab} + \\times V_{bc} $\n",
    "\n",
    "$Y = myFFT(V)$\n",
    "\n",
    "### $THD \\ [\\%] = \\frac{\\sqrt{\\sum ^{50}_{h = 2} Y_h}}{Y_1} \\times 100$\n",
    "\n",
    "Onde,\n",
    "\n",
    "$Y_1$ = Amplitude da fundamental de $2 \\times V_{ab} + V_{bc}$\n",
    "\n",
    "$Y_h$ = Sub-harmônicas de $2 \\times V_{ab} + V_{bc}$"
   ]
  },
  {
   "cell_type": "code",
   "execution_count": 18,
   "metadata": {},
   "outputs": [
    {
     "name": "stdout",
     "output_type": "stream",
     "text": [
      "THD(2 Vab + Vbc) = 0.272736 %\n"
     ]
    }
   ],
   "source": [
    "signal = 2 * Vab_a + Vbc_a\n",
    "\n",
    "print(\"THD(2 Vab + Vbc) = %.6f %%\" % calculateTHD(signal, 6))\n",
    "# ret = calculateTHD(signal, 6); ret"
   ]
  },
  {
   "cell_type": "markdown",
   "metadata": {},
   "source": [
    "### Cálculo da TRD\n",
    "\n",
    "$I = I(Ra)$\n",
    "\n",
    "$I_{rms} = rmsValue(I)$\n",
    "\n",
    "$Y = myFFT(I)$\n",
    "\n",
    "$I_{rated} = \\frac{P_{nom}}{3 Vnom}$\n",
    "\n",
    "### $TRD \\ [\\%] = \\frac{\\sqrt{I_{rms}^2 - Y_1^2}}{I_{rated}} \\times 100$\n",
    "\n",
    "Onde,\n",
    "\n",
    "$I_{rms}$ = Valor RMS de $I(Ra)$\n",
    "\n",
    "$Y_1$ = Amplitude da fundamental de $I$\n",
    "\n",
    "$I_{rated}$ = A corrente (RMS) média de cada fase do inversor\n"
   ]
  },
  {
   "cell_type": "code",
   "execution_count": 19,
   "metadata": {},
   "outputs": [
    {
     "name": "stdout",
     "output_type": "stream",
     "text": [
      "Considerando Pnom = 100 kVA e Vnom = 220 V:\n",
      "\tTHD(Ira) = 45.319158 %\n"
     ]
    }
   ],
   "source": [
    "Ira = df1['I(Ra)']\n",
    "\n",
    "Pnom = 100e3 # VA\n",
    "Vnom = 220 # V\n",
    "\n",
    "Irated = Pnom/3/Vnom\n",
    "\n",
    "print(\"Considerando Pnom = %d kVA e Vnom = %d V:\" % (Pnom/1e3, Vnom))\n",
    "print(\"\\tTHD(Ira) = %.6f %%\" % calculateTRD(Ira, Irated, 6))"
   ]
  },
  {
   "cell_type": "code",
   "execution_count": 20,
   "metadata": {},
   "outputs": [
    {
     "data": {
      "image/png": "[encoded data removed]",
      "text/plain": [
       "<Figure size 432x288 with 1 Axes>"
      ]
     },
     "metadata": {
      "needs_background": "light"
     },
     "output_type": "display_data"
    }
   ],
   "source": [
    "plt.plot(df1.index, Ira)\n",
    "plt.show()"
   ]
  },
  {
   "cell_type": "markdown",
   "metadata": {},
   "source": [
    "# Typhoon Module\n",
    "\n",
    "## Estrutura do código para execução de testes em esquemáticos da Typhoon:\n",
    "\n",
    "1. Importar a biblioteca  ``typhoon.api.hil``\n",
    "2. Carregar o modelo **compilado** do esquemático\n",
    "3. Setar as configurações de **estado inicial do circuito** de comutadores e conversores\n",
    "4. Setar as configurações **iniciais de simulação** (tempo, canais, passo de captura)\n",
    "5. Realizar a **captura**\n",
    "    1. Pode se durante a captura realizar **mudanças no estado** dos comutadores\n",
    "6. Obter os dados da captura e processá-los "
   ]
  },
  {
   "cell_type": "code",
   "execution_count": 3,
   "metadata": {},
   "outputs": [],
   "source": [
    "# 1. Importar a biblioteca  ``typhoon.api.hil``\n",
    "\n",
    "import typhoon.api.hil as hil\n",
    "import numpy as np\n",
    "import pandas as pd\n",
    "import matplotlib.pyplot as plt"
   ]
  },
  {
   "cell_type": "markdown",
   "metadata": {},
   "source": [
    "## 1° Caso) Boost Closed Loop"
   ]
  },
  {
   "cell_type": "code",
   "execution_count": 22,
   "metadata": {},
   "outputs": [
    {
     "data": {
      "text/plain": [
       "True"
      ]
     },
     "execution_count": 22,
     "metadata": {},
     "output_type": "execute_result"
    }
   ],
   "source": [
    "# 2. Carregar o modelo **compilado** do esquemático\n",
    "\n",
    "filename = \"boost_closed_loop\"\n",
    "\n",
    "model_path = '{filename} Target files/{filename}.cpd'.format(filename=filename)\n",
    "\n",
    "hil.load_model(file=model_path, vhil_device=True)"
   ]
  },
  {
   "cell_type": "code",
   "execution_count": 23,
   "metadata": {},
   "outputs": [
    {
     "data": {
      "text/plain": [
       "[['Load']]"
      ]
     },
     "execution_count": 23,
     "metadata": {},
     "output_type": "execute_result"
    }
   ],
   "source": [
    "hil.get_contactors()"
   ]
  },
  {
   "cell_type": "code",
   "execution_count": null,
   "metadata": {},
   "outputs": [],
   "source": [
    "hil.set_contactor?"
   ]
  },
  {
   "cell_type": "code",
   "execution_count": 24,
   "metadata": {},
   "outputs": [
    {
     "data": {
      "text/plain": [
       "[['BOOST']]"
      ]
     },
     "execution_count": 24,
     "metadata": {},
     "output_type": "execute_result"
    }
   ],
   "source": [
    "hil.get_pe_switching_blocks()"
   ]
  },
  {
   "cell_type": "code",
   "execution_count": null,
   "metadata": {},
   "outputs": [],
   "source": [
    "hil.set_pe_switching_block_control_mode?"
   ]
  },
  {
   "cell_type": "code",
   "execution_count": 25,
   "metadata": {},
   "outputs": [
    {
     "data": {
      "text/plain": [
       "[['Vin']]"
      ]
     },
     "execution_count": 25,
     "metadata": {},
     "output_type": "execute_result"
    }
   ],
   "source": [
    "hil.get_sources()"
   ]
  },
  {
   "cell_type": "markdown",
   "metadata": {},
   "source": [
    "### Documentação"
   ]
  },
  {
   "cell_type": "code",
   "execution_count": null,
   "metadata": {},
   "outputs": [],
   "source": [
    "# Documentação do Boost Converter\n",
    "\n",
    "import webbrowser\n",
    "\n",
    "webbrowser.open(\"file:///C:/Typhoon%20HIL%20Control%20Center/\"+\n",
    "                \"typhoon/help/t-ug003/References/boost_converter.html\")"
   ]
  },
  {
   "cell_type": "code",
   "execution_count": 26,
   "metadata": {},
   "outputs": [
    {
     "data": {
      "text/plain": [
       "[['BOOST.i1',\n",
       "  'BOOST.i2',\n",
       "  'BOOST.iboost',\n",
       "  'BOOST.il',\n",
       "  'BOOST.v1',\n",
       "  'BOOST.v2',\n",
       "  'C',\n",
       "  'const_0V',\n",
       "  'HIL0 analog input 1',\n",
       "  'HIL0 analog input 10',\n",
       "  'HIL0 analog input 11',\n",
       "  'HIL0 analog input 12',\n",
       "  'HIL0 analog input 13',\n",
       "  'HIL0 analog input 14',\n",
       "  'HIL0 analog input 15',\n",
       "  'HIL0 analog input 16',\n",
       "  'HIL0 analog input 2',\n",
       "  'HIL0 analog input 3',\n",
       "  'HIL0 analog input 4',\n",
       "  'HIL0 analog input 5',\n",
       "  'HIL0 analog input 6',\n",
       "  'HIL0 analog input 7',\n",
       "  'HIL0 analog input 8',\n",
       "  'HIL0 analog input 9',\n",
       "  'Iin',\n",
       "  'Iout',\n",
       "  'Iout_boost',\n",
       "  'L',\n",
       "  'Load.i',\n",
       "  'Modulation Signal',\n",
       "  'Vin',\n",
       "  'VL',\n",
       "  'Vout']]"
      ]
     },
     "execution_count": 26,
     "metadata": {},
     "output_type": "execute_result"
    }
   ],
   "source": [
    "hil.get_analog_signals()"
   ]
  },
  {
   "cell_type": "code",
   "execution_count": 27,
   "metadata": {
    "scrolled": true
   },
   "outputs": [
    {
     "data": {
      "text/plain": [
       "[['BOOST.PWM_Modulator_BOT_1',\n",
       "  'BOOST.PWM_Modulator_TOP_1',\n",
       "  'enable',\n",
       "  'HIL0 AO flag',\n",
       "  'HIL0 digital input 1',\n",
       "  'HIL0 digital input 10',\n",
       "  'HIL0 digital input 11',\n",
       "  'HIL0 digital input 12',\n",
       "  'HIL0 digital input 13',\n",
       "  'HIL0 digital input 14',\n",
       "  'HIL0 digital input 15',\n",
       "  'HIL0 digital input 16',\n",
       "  'HIL0 digital input 17',\n",
       "  'HIL0 digital input 18',\n",
       "  'HIL0 digital input 19',\n",
       "  'HIL0 digital input 2',\n",
       "  'HIL0 digital input 20',\n",
       "  'HIL0 digital input 21',\n",
       "  'HIL0 digital input 22',\n",
       "  'HIL0 digital input 23',\n",
       "  'HIL0 digital input 24',\n",
       "  'HIL0 digital input 25',\n",
       "  'HIL0 digital input 26',\n",
       "  'HIL0 digital input 27',\n",
       "  'HIL0 digital input 28',\n",
       "  'HIL0 digital input 29',\n",
       "  'HIL0 digital input 3',\n",
       "  'HIL0 digital input 30',\n",
       "  'HIL0 digital input 31',\n",
       "  'HIL0 digital input 32',\n",
       "  'HIL0 digital input 4',\n",
       "  'HIL0 digital input 5',\n",
       "  'HIL0 digital input 6',\n",
       "  'HIL0 digital input 7',\n",
       "  'HIL0 digital input 8',\n",
       "  'HIL0 digital input 9',\n",
       "  'HIL0 DTV flag',\n",
       "  'Load_fb']]"
      ]
     },
     "execution_count": 27,
     "metadata": {},
     "output_type": "execute_result"
    }
   ],
   "source": [
    "hil.get_digital_signals()"
   ]
  },
  {
   "cell_type": "code",
   "execution_count": 28,
   "metadata": {},
   "outputs": [
    {
     "data": {
      "text/plain": [
       "True"
      ]
     },
     "execution_count": 28,
     "metadata": {},
     "output_type": "execute_result"
    }
   ],
   "source": [
    "# 3. Setar as configurações de **estado inicial do circuito** de comutadores e conversores\n",
    "\n",
    "hil.set_contactor('Load', swControl=True, swState=False)\n",
    "hil.set_pe_switching_block_control_mode(\n",
    "    blockName='BOOST', switchName='S1', swControl=False\n",
    ")\n",
    "hil.set_source_constant_value('Vin', 35)"
   ]
  },
  {
   "cell_type": "code",
   "execution_count": 29,
   "metadata": {},
   "outputs": [
    {
     "name": "stdout",
     "output_type": "stream",
     "text": [
      "Waiting a sec\n",
      "Sec waited\n"
     ]
    },
    {
     "data": {
      "text/plain": [
       "True"
      ]
     },
     "execution_count": 29,
     "metadata": {},
     "output_type": "execute_result"
    }
   ],
   "source": [
    "# 4. Setar as configurações **iniciais de simulação** (tempo, canais, passo de captura)\n",
    "# 5. Realizar a **captura**\n",
    "\n",
    "channels = ['Iout', 'BOOST.PWM_Modulator_BOT_1', 'Vout', 'BOOST.PWM_Modulator_TOP_1', 'Load_fb']\n",
    "duration = 5\n",
    "cap_step = 2e-6\n",
    "rate = int(1//cap_step)\n",
    "\n",
    "hil.start_simulation()\n",
    "\n",
    "start_capture(duration, rate, channels)\n",
    "\n",
    "print('Waiting a sec')\n",
    "hil.wait_sec(1)\n",
    "print('Sec waited')\n",
    "\n",
    "hil.set_contactor('Load', True, True)\n",
    "\n",
    "df = get_capture_results(wait_capture=True)\n",
    "\n",
    "hil.stop_simulation()"
   ]
  },
  {
   "cell_type": "code",
   "execution_count": 30,
   "metadata": {},
   "outputs": [],
   "source": [
    "df1 = df.copy()\n",
    "df1.index /= np.timedelta64(1, 's')"
   ]
  },
  {
   "cell_type": "code",
   "execution_count": 31,
   "metadata": {},
   "outputs": [
    {
     "data": {
      "text/plain": [
       "<matplotlib.axes._subplots.AxesSubplot at 0x113ff590>"
      ]
     },
     "execution_count": 31,
     "metadata": {},
     "output_type": "execute_result"
    },
    {
     "data": {
      "image/png": "[encoded data removed]",
      "text/plain": [
       "<Figure size 432x288 with 1 Axes>"
      ]
     },
     "metadata": {
      "needs_background": "light"
     },
     "output_type": "display_data"
    }
   ],
   "source": [
    "df1['Iout'].plot()"
   ]
  },
  {
   "cell_type": "code",
   "execution_count": 32,
   "metadata": {},
   "outputs": [
    {
     "data": {
      "text/plain": [
       "<matplotlib.axes._subplots.AxesSubplot at 0x11300650>"
      ]
     },
     "execution_count": 32,
     "metadata": {},
     "output_type": "execute_result"
    },
    {
     "data": {
      "image/png": "[encoded data removed]",
      "text/plain": [
       "<Figure size 432x288 with 1 Axes>"
      ]
     },
     "metadata": {
      "needs_background": "light"
     },
     "output_type": "display_data"
    }
   ],
   "source": [
    "df1['Vout'].plot()"
   ]
  },
  {
   "cell_type": "code",
   "execution_count": 33,
   "metadata": {},
   "outputs": [
    {
     "data": {
      "text/plain": [
       "<matplotlib.axes._subplots.AxesSubplot at 0x13c2dfb0>"
      ]
     },
     "execution_count": 33,
     "metadata": {},
     "output_type": "execute_result"
    },
    {
     "data": {
      "image/png": "[encoded data removed]",
      "text/plain": [
       "<Figure size 432x288 with 1 Axes>"
      ]
     },
     "metadata": {
      "needs_background": "light"
     },
     "output_type": "display_data"
    }
   ],
   "source": [
    "df1['Load_fb'].plot()"
   ]
  },
  {
   "cell_type": "code",
   "execution_count": 34,
   "metadata": {},
   "outputs": [
    {
     "data": {
      "text/plain": [
       "True"
      ]
     },
     "execution_count": 34,
     "metadata": {},
     "output_type": "execute_result"
    }
   ],
   "source": [
    "hil.set_contactor('Load', swControl=True, swState=False)\n",
    "hil.set_contactor('Load', True, True, executeAt=1)\n",
    "hil.set_contactor('Load', True, False, executeAt=2)"
   ]
  },
  {
   "cell_type": "code",
   "execution_count": 35,
   "metadata": {},
   "outputs": [
    {
     "data": {
      "text/plain": [
       "True"
      ]
     },
     "execution_count": 35,
     "metadata": {},
     "output_type": "execute_result"
    }
   ],
   "source": [
    "channels = ['Iout', 'BOOST.PWM_Modulator_BOT_1', 'Vout', 'BOOST.PWM_Modulator_TOP_1', 'Load_fb']\n",
    "duration = 5\n",
    "cap_step = 2e-6\n",
    "rate = int(1//cap_step)\n",
    "\n",
    "hil.start_simulation()\n",
    "\n",
    "start_capture(duration, rate, channels)\n",
    "\n",
    "hil.set_contactor('Load', True, False, executeAt=2)\n",
    "\n",
    "df = get_capture_results(wait_capture=True)\n",
    "\n",
    "hil.stop_simulation()"
   ]
  },
  {
   "cell_type": "code",
   "execution_count": 36,
   "metadata": {},
   "outputs": [],
   "source": [
    "df1 = df.copy()\n",
    "df1.index /= np.timedelta64(1, 's')"
   ]
  },
  {
   "cell_type": "code",
   "execution_count": 37,
   "metadata": {},
   "outputs": [
    {
     "data": {
      "text/plain": [
       "<matplotlib.axes._subplots.AxesSubplot at 0x113e9ff0>"
      ]
     },
     "execution_count": 37,
     "metadata": {},
     "output_type": "execute_result"
    },
    {
     "data": {
      "image/png": "[encoded data removed]",
      "text/plain": [
       "<Figure size 432x288 with 1 Axes>"
      ]
     },
     "metadata": {
      "needs_background": "light"
     },
     "output_type": "display_data"
    }
   ],
   "source": [
    "df1['Iout'].plot()"
   ]
  },
  {
   "cell_type": "code",
   "execution_count": 38,
   "metadata": {},
   "outputs": [
    {
     "data": {
      "text/plain": [
       "<matplotlib.axes._subplots.AxesSubplot at 0x15baca90>"
      ]
     },
     "execution_count": 38,
     "metadata": {},
     "output_type": "execute_result"
    },
    {
     "data": {
      "image/png": "[encoded data removed]",
      "text/plain": [
       "<Figure size 432x288 with 1 Axes>"
      ]
     },
     "metadata": {
      "needs_background": "light"
     },
     "output_type": "display_data"
    }
   ],
   "source": [
    "df1['Vout'].plot()"
   ]
  },
  {
   "cell_type": "code",
   "execution_count": 39,
   "metadata": {},
   "outputs": [
    {
     "data": {
      "text/plain": [
       "<matplotlib.axes._subplots.AxesSubplot at 0x15bdfa70>"
      ]
     },
     "execution_count": 39,
     "metadata": {},
     "output_type": "execute_result"
    },
    {
     "data": {
      "image/png": "[encoded data removed]",
      "text/plain": [
       "<Figure size 432x288 with 1 Axes>"
      ]
     },
     "metadata": {
      "needs_background": "light"
     },
     "output_type": "display_data"
    }
   ],
   "source": [
    "df1['Load_fb'].plot()"
   ]
  },
  {
   "cell_type": "markdown",
   "metadata": {},
   "source": [
    "## 2° Caso) Two-Level Inverter"
   ]
  },
  {
   "cell_type": "code",
   "execution_count": 4,
   "metadata": {},
   "outputs": [
    {
     "data": {
      "text/plain": [
       "True"
      ]
     },
     "execution_count": 4,
     "metadata": {},
     "output_type": "execute_result"
    }
   ],
   "source": [
    "filename = \"two_level_carrier_based\"\n",
    "\n",
    "model_path = '{filename} Target files/{filename}.cpd'.format(filename=filename)\n",
    "\n",
    "hil.load_model(file=model_path, vhil_device=True)"
   ]
  },
  {
   "cell_type": "code",
   "execution_count": 5,
   "metadata": {},
   "outputs": [
    {
     "data": {
      "text/plain": [
       "[['Ca',\n",
       "  'Cb',\n",
       "  'Cc',\n",
       "  'const_0V',\n",
       "  'Core Coupling 1.cpl1.I_msr',\n",
       "  'Core Coupling 1.cpl1.V_msr',\n",
       "  'Core Coupling 1.cpl2.I_msr',\n",
       "  'Core Coupling 1.cpl2.V_msr',\n",
       "  'HIL0 analog input 1',\n",
       "  'HIL0 analog input 10',\n",
       "  'HIL0 analog input 11',\n",
       "  'HIL0 analog input 12',\n",
       "  'HIL0 analog input 13',\n",
       "  'HIL0 analog input 14',\n",
       "  'HIL0 analog input 15',\n",
       "  'HIL0 analog input 16',\n",
       "  'HIL0 analog input 2',\n",
       "  'HIL0 analog input 3',\n",
       "  'HIL0 analog input 4',\n",
       "  'HIL0 analog input 5',\n",
       "  'HIL0 analog input 6',\n",
       "  'HIL0 analog input 7',\n",
       "  'HIL0 analog input 8',\n",
       "  'HIL0 analog input 9',\n",
       "  'Ia1',\n",
       "  'Ia2',\n",
       "  'Ib1',\n",
       "  'Ib2',\n",
       "  'Ic1',\n",
       "  'Ic2',\n",
       "  'La.flux',\n",
       "  'La.Lint',\n",
       "  'La.V',\n",
       "  'Lb.flux',\n",
       "  'Lb.Lint',\n",
       "  'Lb.V',\n",
       "  'Lb1',\n",
       "  'Lc.flux',\n",
       "  'Lc.Lint',\n",
       "  'Lc.V',\n",
       "  'Lc1',\n",
       "  'max',\n",
       "  'min',\n",
       "  'Ra.I',\n",
       "  'Rb.I',\n",
       "  'Rb.L',\n",
       "  'Rc.I',\n",
       "  'Rc.L',\n",
       "  'Three Phase Inverter1.IGBT Leg1.il',\n",
       "  'Three Phase Inverter1.IGBT Leg1.v1',\n",
       "  'Three Phase Inverter1.IGBT Leg1.v2',\n",
       "  'Three Phase Inverter1.IGBT Leg2.il',\n",
       "  'Three Phase Inverter1.IGBT Leg2.v1',\n",
       "  'Three Phase Inverter1.IGBT Leg2.v2',\n",
       "  'Three Phase Inverter1.IGBT Leg3.il',\n",
       "  'Three Phase Inverter1.IGBT Leg3.v1',\n",
       "  'Three Phase Inverter1.IGBT Leg3.v2',\n",
       "  'va_ref',\n",
       "  'Vab',\n",
       "  'Vab_c',\n",
       "  'vag',\n",
       "  'vb_ref',\n",
       "  'Vbc',\n",
       "  'Vbc_c',\n",
       "  'vbg',\n",
       "  'vc_ref',\n",
       "  'vcg',\n",
       "  'vo',\n",
       "  'Vs1'],\n",
       " ['HIL0 AO flag',\n",
       "  'HIL0 digital input 1',\n",
       "  'HIL0 digital input 10',\n",
       "  'HIL0 digital input 11',\n",
       "  'HIL0 digital input 12',\n",
       "  'HIL0 digital input 13',\n",
       "  'HIL0 digital input 14',\n",
       "  'HIL0 digital input 15',\n",
       "  'HIL0 digital input 16',\n",
       "  'HIL0 digital input 17',\n",
       "  'HIL0 digital input 18',\n",
       "  'HIL0 digital input 19',\n",
       "  'HIL0 digital input 2',\n",
       "  'HIL0 digital input 20',\n",
       "  'HIL0 digital input 21',\n",
       "  'HIL0 digital input 22',\n",
       "  'HIL0 digital input 23',\n",
       "  'HIL0 digital input 24',\n",
       "  'HIL0 digital input 25',\n",
       "  'HIL0 digital input 26',\n",
       "  'HIL0 digital input 27',\n",
       "  'HIL0 digital input 28',\n",
       "  'HIL0 digital input 29',\n",
       "  'HIL0 digital input 3',\n",
       "  'HIL0 digital input 30',\n",
       "  'HIL0 digital input 31',\n",
       "  'HIL0 digital input 32',\n",
       "  'HIL0 digital input 4',\n",
       "  'HIL0 digital input 5',\n",
       "  'HIL0 digital input 6',\n",
       "  'HIL0 digital input 7',\n",
       "  'HIL0 digital input 8',\n",
       "  'HIL0 digital input 9',\n",
       "  'HIL0 DTV flag',\n",
       "  'Three Phase Inverter1.IGBT Leg1.PWM_Modulator_BOT_1',\n",
       "  'Three Phase Inverter1.IGBT Leg1.PWM_Modulator_TOP_1',\n",
       "  'Three Phase Inverter1.IGBT Leg1_stf',\n",
       "  'Three Phase Inverter1.IGBT Leg1_vout_cmp',\n",
       "  'Three Phase Inverter1.IGBT Leg2.PWM_Modulator_BOT_1',\n",
       "  'Three Phase Inverter1.IGBT Leg2.PWM_Modulator_TOP_1',\n",
       "  'Three Phase Inverter1.IGBT Leg2_stf',\n",
       "  'Three Phase Inverter1.IGBT Leg2_vout_cmp',\n",
       "  'Three Phase Inverter1.IGBT Leg3.PWM_Modulator_BOT_1',\n",
       "  'Three Phase Inverter1.IGBT Leg3.PWM_Modulator_TOP_1',\n",
       "  'Three Phase Inverter1.IGBT Leg3_stf',\n",
       "  'Three Phase Inverter1.IGBT Leg3_vout_cmp'],\n",
       " ['Three Phase Inverter1'],\n",
       " [],\n",
       " ['Vs1'],\n",
       " ['inductance', 'modulation index', 'resistance']]"
      ]
     },
     "execution_count": 5,
     "metadata": {},
     "output_type": "execute_result"
    }
   ],
   "source": [
    "hil.get_analog_signals() + hil.get_digital_signals() + \\\n",
    "hil.get_pe_switching_blocks() + hil.get_contactors() + \\\n",
    "hil.get_sources() + hil.get_scada_inputs()"
   ]
  },
  {
   "cell_type": "markdown",
   "metadata": {},
   "source": [
    "### Documentação"
   ]
  },
  {
   "cell_type": "code",
   "execution_count": null,
   "metadata": {},
   "outputs": [],
   "source": [
    "# Documentação do Two Level Rectifier\n",
    "\n",
    "import webbrowser\n",
    "\n",
    "webbrowser.open(\"file:///C:/Typhoon%20HIL%20Control%20Center/\" +\n",
    "                \"typhoon/help/t-ug003/References/\"+\n",
    "                \"three-phase_two-level_inverter_rectifier.html\")"
   ]
  },
  {
   "cell_type": "code",
   "execution_count": 6,
   "metadata": {},
   "outputs": [
    {
     "data": {
      "text/plain": [
       "True"
      ]
     },
     "execution_count": 6,
     "metadata": {},
     "output_type": "execute_result"
    }
   ],
   "source": [
    "for switch_name in ['Sa_top', 'Sa_bot', 'Sb_top', 'Sb_bot', 'Sc_top', 'Sb_bot']:\n",
    "    hil.set_pe_switching_block_control_mode(\n",
    "        blockName='Three Phase Inverter1', switchName=switch_name, swControl=False\n",
    "    )\n",
    "\n",
    "hil.set_source_constant_value('Vs1', 800)\n",
    "\n",
    "hil.set_scada_input_value('inductance', 50e-6)\n",
    "hil.set_scada_input_value('resistance', 100)\n",
    "hil.set_scada_input_value('modulation index', 1.0)"
   ]
  },
  {
   "cell_type": "code",
   "execution_count": 7,
   "metadata": {},
   "outputs": [
    {
     "data": {
      "text/plain": [
       "True"
      ]
     },
     "execution_count": 7,
     "metadata": {},
     "output_type": "execute_result"
    }
   ],
   "source": [
    "sa_bot = 'Three Phase Inverter1.IGBT Leg1.PWM_Modulator_BOT_1'\n",
    "sb_bot = 'Three Phase Inverter1.IGBT Leg2.PWM_Modulator_BOT_1'\n",
    "sc_bot = 'Three Phase Inverter1.IGBT Leg3.PWM_Modulator_BOT_1'\n",
    "\n",
    "channels = ['Vab', 'Vbc', 'Ia1', 'Ib1', 'Ic1', #'Three Phase Inverter1.IGBT Leg1.PWM_Modulator_BOT_1', \n",
    "            sa_bot, sb_bot, sc_bot]\n",
    "\n",
    "duration = 5\n",
    "rate = 200e3 #Hz\n",
    "\n",
    "hil.start_simulation()\n",
    "\n",
    "start_capture(duration, rate, channels)\n",
    "\n",
    "df = get_capture_results(wait_capture=True)\n",
    "\n",
    "hil.stop_simulation()"
   ]
  },
  {
   "cell_type": "code",
   "execution_count": null,
   "metadata": {},
   "outputs": [],
   "source": [
    "df1 = df.copy()\n",
    "df1.index /= np.timedelta64(1, 's')"
   ]
  },
  {
   "cell_type": "code",
   "execution_count": null,
   "metadata": {},
   "outputs": [],
   "source": [
    "df1['Vab'].plot()"
   ]
  },
  {
   "cell_type": "code",
   "execution_count": null,
   "metadata": {},
   "outputs": [],
   "source": [
    "# Slicing a dataframe\n",
    "df1 = df1[:5/60]"
   ]
  },
  {
   "cell_type": "code",
   "execution_count": null,
   "metadata": {},
   "outputs": [],
   "source": [
    "df1.tail()"
   ]
  },
  {
   "cell_type": "code",
   "execution_count": null,
   "metadata": {},
   "outputs": [],
   "source": [
    "df1['Vab'].plot()"
   ]
  },
  {
   "cell_type": "code",
   "execution_count": null,
   "metadata": {},
   "outputs": [],
   "source": [
    "plt.plot(df1.index, 2 * df1['Vab'] + df1['Vbc'])"
   ]
  },
  {
   "cell_type": "code",
   "execution_count": null,
   "metadata": {},
   "outputs": [],
   "source": [
    "print('THD(2 * Vab + Vbc) = %.6f %%' % calculateTHD(2 * df1['Vab'] + df1['Vbc'], 5))"
   ]
  },
  {
   "cell_type": "code",
   "execution_count": null,
   "metadata": {},
   "outputs": [],
   "source": [
    "Pnom = 100e3 # VA\n",
    "Vnom = 220 # V\n",
    "\n",
    "I_rated = Pnom/3/220\n",
    "\n",
    "print(\"Considerando Pnom = %d kVA e Vnom = %d V:\\n\" % (Pnom/1e3, Vnom))\n",
    "\n",
    "TRD_1 = calculateTRD(df1['Ia1'], I_rated, 5)\n",
    "print('TRD(Ia1) = %.6f %%' % calculateTRD(df1['Ia1'], I_rated, 5))\n",
    "\n",
    "TRD_2 = calculateTRD(df1['Ib1'], I_rated, 5)\n",
    "print('TRD(Ib2) = %.6f %%' % calculateTRD(df1['Ib1'], I_rated, 5))\n",
    "\n",
    "TRD_3 = calculateTRD(df1['Ic1'], I_rated, 5)\n",
    "print('TRD(Ic1) = %.6f %%' % calculateTRD(df1['Ic1'], I_rated, 5))\n",
    "\n",
    "print('\\nTRD Médio (Ia1, Ib1, Ic1) = %.6f %%' % np.mean([TRD_1, TRD_2, TRD_3]))"
   ]
  },
  {
   "cell_type": "code",
   "execution_count": null,
   "metadata": {},
   "outputs": [],
   "source": [
    "plt.plot(df1.index, df1['Ia1'])\n",
    "plt.plot(df1.index, df1['Ib1'])\n",
    "plt.plot(df1.index, df1['Ic1'])\n",
    "plt.show()"
   ]
  },
  {
   "cell_type": "code",
   "execution_count": null,
   "metadata": {},
   "outputs": [],
   "source": [
    "df1 = df.copy()\n",
    "df1.index /= np.timedelta64(1, 's')\n",
    "\n",
    "df1 = df1[5/60: 10/60]"
   ]
  },
  {
   "cell_type": "code",
   "execution_count": null,
   "metadata": {},
   "outputs": [],
   "source": [
    "plt.plot(df1.index, df1['Ia1'])\n",
    "plt.plot(df1.index, df1['Ib1'])\n",
    "plt.plot(df1.index, df1['Ic1'])\n",
    "plt.show()"
   ]
  },
  {
   "cell_type": "code",
   "execution_count": null,
   "metadata": {},
   "outputs": [],
   "source": [
    "print('THD(2 * Vab + Vbc) = %.6f %%' % calculateTHD(2 * df1['Vab'] + df1['Vbc'], 5))"
   ]
  },
  {
   "cell_type": "code",
   "execution_count": null,
   "metadata": {},
   "outputs": [],
   "source": [
    "Pnom = 100e3 # VA\n",
    "Vnom = 220 # V\n",
    "\n",
    "I_rated = Pnom/3/220\n",
    "\n",
    "print(\"Considerando Pnom = %d kVA e Vnom = %d V:\\n\" % (Pnom/1e3, Vnom))\n",
    "\n",
    "TRD_1 = calculateTRD(df1['Ia1'], I_rated, 5)\n",
    "print('TRD(Ia1) = %.6f %%' % calculateTRD(df1['Ia1'], I_rated, 5))\n",
    "\n",
    "TRD_2 = calculateTRD(df1['Ib1'], I_rated, 5)\n",
    "print('TRD(Ib2) = %.6f %%' % calculateTRD(df1['Ib1'], I_rated, 5))\n",
    "\n",
    "TRD_3 = calculateTRD(df1['Ic1'], I_rated, 5)\n",
    "print('TRD(Ic1) = %.6f %%' % calculateTRD(df1['Ic1'], I_rated, 5))\n",
    "\n",
    "print('\\nTRD Médio (Ia1, Ib1, Ic1) = %.6f %%' % np.mean([TRD_1, TRD_2, TRD_3]))"
   ]
  },
  {
   "cell_type": "code",
   "execution_count": null,
   "metadata": {},
   "outputs": [],
   "source": [
    "plt.plot(df1.index, df1[sa_bot], label='sa_bot')\n",
    "plt.plot(df1.index, df1[sb_bot] - 1.25, label='sb_bot')\n",
    "plt.plot(df1.index, df1[sc_bot] - 2.5, label='sc_bot')\n",
    "\n",
    "min = df1.index[0]\n",
    "plt.xlim(min, min+.1/60)\n",
    "plt.legend()"
   ]
  },
  {
   "cell_type": "markdown",
   "metadata": {},
   "source": [
    "#### Exercício: Desenvolver um contador de comutações por segundo"
   ]
  },
  {
   "cell_type": "code",
   "execution_count": null,
   "metadata": {},
   "outputs": [],
   "source": [
    "comA = np.array(df1[sa_bot])[:200]\n",
    "plt.plot(comA)"
   ]
  },
  {
   "cell_type": "code",
   "execution_count": null,
   "metadata": {},
   "outputs": [],
   "source": [
    "aux1 = comA[:-1]\n",
    "aux2 = comA[1:]\n",
    "\n",
    "diff = aux2 - aux1\n",
    "plt.plot(diff)"
   ]
  },
  {
   "cell_type": "code",
   "execution_count": null,
   "metadata": {},
   "outputs": [],
   "source": [
    "diff_abs = np.abs(diff)\n",
    "plt.plot(diff_abs)"
   ]
  },
  {
   "cell_type": "code",
   "execution_count": null,
   "metadata": {},
   "outputs": [],
   "source": [
    "n_com = np.sum(diff_abs == True); n_com"
   ]
  },
  {
   "cell_type": "code",
   "execution_count": null,
   "metadata": {},
   "outputs": [],
   "source": [
    "def commutationCount(signal, n_cycles, fnom=60):\n",
    "    aux1 = signal[:-1]\n",
    "    aux2 = signal[1:]\n",
    "\n",
    "    diff = aux2 - aux1\n",
    "    \n",
    "    print()\n",
    "    \n",
    "    diff_abs = np.abs(diff)\n",
    "\n",
    "    n_com = np.sum(diff_abs == True)\n",
    "    \n",
    "    return n_com * fnom/n_cycles\n",
    "\n",
    "comA = np.array(df1[sa_bot])\n",
    "commutationCount(comA, 5)"
   ]
  },
  {
   "cell_type": "markdown",
   "metadata": {},
   "source": [
    "**Espero terminar Aqui!**"
   ]
  },
  {
   "cell_type": "markdown",
   "metadata": {},
   "source": [
    "## 3° Caso) NPC"
   ]
  },
  {
   "cell_type": "code",
   "execution_count": 8,
   "metadata": {},
   "outputs": [
    {
     "data": {
      "text/plain": [
       "True"
      ]
     },
     "execution_count": 8,
     "metadata": {},
     "output_type": "execute_result"
    }
   ],
   "source": [
    "filename = \"NPC_SVM\"\n",
    "\n",
    "model_path = '{filename} Target files/{filename}.cpd'.format(filename=filename)\n",
    "\n",
    "hil.load_model(file=model_path, vhil_device=True)"
   ]
  },
  {
   "cell_type": "code",
   "execution_count": 6,
   "metadata": {},
   "outputs": [
    {
     "data": {
      "text/plain": [
       "[['Vs1'],\n",
       " ['LegA', 'LegB', 'LegC'],\n",
       " ['inductance', 'modulation index', 'resistance'],\n",
       " [],\n",
       " ['C1',\n",
       "  'C2',\n",
       "  'Ca',\n",
       "  'Cb',\n",
       "  'Cc',\n",
       "  'const_0V',\n",
       "  'Core Coupling 1.cpl1.I_msr',\n",
       "  'Core Coupling 1.cpl1.V_msr',\n",
       "  'Core Coupling 1.cpl2.I_msr',\n",
       "  'Core Coupling 1.cpl2.V_msr',\n",
       "  'd1',\n",
       "  'd2',\n",
       "  'd3',\n",
       "  'error',\n",
       "  'HIL0 analog input 1',\n",
       "  'HIL0 analog input 10',\n",
       "  'HIL0 analog input 11',\n",
       "  'HIL0 analog input 12',\n",
       "  'HIL0 analog input 13',\n",
       "  'HIL0 analog input 14',\n",
       "  'HIL0 analog input 15',\n",
       "  'HIL0 analog input 16',\n",
       "  'HIL0 analog input 2',\n",
       "  'HIL0 analog input 3',\n",
       "  'HIL0 analog input 4',\n",
       "  'HIL0 analog input 5',\n",
       "  'HIL0 analog input 6',\n",
       "  'HIL0 analog input 7',\n",
       "  'HIL0 analog input 8',\n",
       "  'HIL0 analog input 9',\n",
       "  'hysteresis',\n",
       "  'I_mid_DC',\n",
       "  'Ia1',\n",
       "  'Ia2',\n",
       "  'Ib1',\n",
       "  'Ib2',\n",
       "  'Ic1',\n",
       "  'Ic2',\n",
       "  'La.flux',\n",
       "  'La.Lint',\n",
       "  'La.V',\n",
       "  'Lb.flux',\n",
       "  'Lb.Lint',\n",
       "  'Lb.V',\n",
       "  'Lb1',\n",
       "  'Lc.flux',\n",
       "  'Lc.Lint',\n",
       "  'Lc.V',\n",
       "  'Lc1',\n",
       "  'LegA.il',\n",
       "  'LegA.v1',\n",
       "  'LegA.v2',\n",
       "  'LegA.vZ',\n",
       "  'LegB.il',\n",
       "  'LegB.v1',\n",
       "  'LegB.v2',\n",
       "  'LegB.vZ',\n",
       "  'LegC.il',\n",
       "  'LegC.v1',\n",
       "  'LegC.v2',\n",
       "  'LegC.vZ',\n",
       "  'Ra.I',\n",
       "  'Rb.I',\n",
       "  'Rb.L',\n",
       "  'Rc.I',\n",
       "  'Rc.L',\n",
       "  'sector',\n",
       "  'sextant',\n",
       "  'va_ref',\n",
       "  'Vab',\n",
       "  'vb_ref',\n",
       "  'Vbc',\n",
       "  'Vc1',\n",
       "  'Vc2',\n",
       "  'vc_ref',\n",
       "  'Vs1'],\n",
       " ['HIL0 AO flag',\n",
       "  'HIL0 digital input 1',\n",
       "  'HIL0 digital input 10',\n",
       "  'HIL0 digital input 11',\n",
       "  'HIL0 digital input 12',\n",
       "  'HIL0 digital input 13',\n",
       "  'HIL0 digital input 14',\n",
       "  'HIL0 digital input 15',\n",
       "  'HIL0 digital input 16',\n",
       "  'HIL0 digital input 17',\n",
       "  'HIL0 digital input 18',\n",
       "  'HIL0 digital input 19',\n",
       "  'HIL0 digital input 2',\n",
       "  'HIL0 digital input 20',\n",
       "  'HIL0 digital input 21',\n",
       "  'HIL0 digital input 22',\n",
       "  'HIL0 digital input 23',\n",
       "  'HIL0 digital input 24',\n",
       "  'HIL0 digital input 25',\n",
       "  'HIL0 digital input 26',\n",
       "  'HIL0 digital input 27',\n",
       "  'HIL0 digital input 28',\n",
       "  'HIL0 digital input 29',\n",
       "  'HIL0 digital input 3',\n",
       "  'HIL0 digital input 30',\n",
       "  'HIL0 digital input 31',\n",
       "  'HIL0 digital input 32',\n",
       "  'HIL0 digital input 4',\n",
       "  'HIL0 digital input 5',\n",
       "  'HIL0 digital input 6',\n",
       "  'HIL0 digital input 7',\n",
       "  'HIL0 digital input 8',\n",
       "  'HIL0 digital input 9',\n",
       "  'HIL0 DTV flag',\n",
       "  'LegA.PWM_Modulator_BOT_1',\n",
       "  'LegA.PWM_Modulator_BOT_2',\n",
       "  'LegA.PWM_Modulator_TOP_1',\n",
       "  'LegA.PWM_Modulator_TOP_2',\n",
       "  'LegA_stf',\n",
       "  'LegB.PWM_Modulator_BOT_1',\n",
       "  'LegB.PWM_Modulator_BOT_2',\n",
       "  'LegB.PWM_Modulator_TOP_1',\n",
       "  'LegB.PWM_Modulator_TOP_2',\n",
       "  'LegB_stf',\n",
       "  'LegC.PWM_Modulator_BOT_1',\n",
       "  'LegC.PWM_Modulator_BOT_2',\n",
       "  'LegC.PWM_Modulator_TOP_1',\n",
       "  'LegC.PWM_Modulator_TOP_2',\n",
       "  'LegC_stf']]"
      ]
     },
     "execution_count": 6,
     "metadata": {},
     "output_type": "execute_result"
    }
   ],
   "source": [
    "hil.get_sources() + hil.get_pe_switching_blocks() + \\\n",
    "hil.get_scada_inputs() + hil.get_contactors() + \\\n",
    "hil.get_analog_signals() + hil.get_digital_signals()"
   ]
  },
  {
   "cell_type": "markdown",
   "metadata": {},
   "source": [
    "### Documentação"
   ]
  },
  {
   "cell_type": "code",
   "execution_count": 7,
   "metadata": {},
   "outputs": [
    {
     "data": {
      "text/plain": [
       "True"
      ]
     },
     "execution_count": 7,
     "metadata": {},
     "output_type": "execute_result"
    }
   ],
   "source": [
    "# Documentação do NPC Leg\n",
    "\n",
    "import webbrowser\n",
    "\n",
    "webbrowser.open(\"file:///C:/Typhoon%20HIL%20Control%20Center/\" +\n",
    "                \"typhoon/help/t-ug003/References/npc_leg.html\")"
   ]
  },
  {
   "cell_type": "code",
   "execution_count": 8,
   "metadata": {},
   "outputs": [
    {
     "data": {
      "text/plain": [
       "True"
      ]
     },
     "execution_count": 8,
     "metadata": {},
     "output_type": "execute_result"
    }
   ],
   "source": [
    "legs = ['LegA', 'LegB', 'LegC']\n",
    "switchs = ['S1', 'S2', 'S3', 'S4']\n",
    "\n",
    "for leg in legs:\n",
    "    for switch in switchs:\n",
    "        hil.set_pe_switching_block_control_mode(\n",
    "            blockName=leg, switchName=switch, swControl=False\n",
    "        )\n",
    "\n",
    "hil.set_source_constant_value('Vs1', 800)\n",
    "\n",
    "hil.set_scada_input_value('inductance', 50e-6)\n",
    "hil.set_scada_input_value('resistance', 100)\n",
    "hil.set_scada_input_value('modulation index', 1.0)"
   ]
  },
  {
   "cell_type": "code",
   "execution_count": 9,
   "metadata": {},
   "outputs": [
    {
     "data": {
      "text/plain": [
       "True"
      ]
     },
     "execution_count": 9,
     "metadata": {},
     "output_type": "execute_result"
    }
   ],
   "source": [
    "sa_bot_1 = 'LegA.PWM_Modulator_BOT_1'\n",
    "sa_bot_2 = 'LegA.PWM_Modulator_BOT_2'\n",
    "sb_bot_1 = 'LegB.PWM_Modulator_BOT_1'\n",
    "sb_bot_2 = 'LegB.PWM_Modulator_BOT_2'\n",
    "sc_bot_1 = 'LegC.PWM_Modulator_BOT_1'\n",
    "sc_bot_2 = 'LegC.PWM_Modulator_BOT_2'\n",
    "\n",
    "channels = ['Vab', 'Vbc', 'Ia1', 'Ib1', 'Ic1',\n",
    "            sa_bot_1, sa_bot_2, sb_bot_1, sb_bot_2, sc_bot_1, sc_bot_2]\n",
    "\n",
    "duration = 5\n",
    "rate = 200e3 #Hz\n",
    "\n",
    "hil.start_simulation()\n",
    "\n",
    "start_capture(duration, rate, channels)\n",
    "\n",
    "df = get_capture_results(wait_capture=True)\n",
    "\n",
    "hil.stop_simulation()"
   ]
  },
  {
   "cell_type": "code",
   "execution_count": 23,
   "metadata": {},
   "outputs": [],
   "source": [
    "df1 = df.copy()\n",
    "df1.index /= np.timedelta64(1, 's')\n",
    "\n",
    "df1 = df1[:12/60]"
   ]
  },
  {
   "cell_type": "code",
   "execution_count": 24,
   "metadata": {},
   "outputs": [
    {
     "data": {
      "image/png": "[encoded data removed]",
      "text/plain": [
       "<Figure size 432x288 with 2 Axes>"
      ]
     },
     "metadata": {
      "needs_background": "light"
     },
     "output_type": "display_data"
    }
   ],
   "source": [
    "plt.subplot(211)\n",
    "plt.plot(df1.index, df1.Vab)\n",
    "plt.grid(True)\n",
    "plt.subplot(212)\n",
    "plt.plot(df1.index, df1.Vbc)\n",
    "plt.grid(True)\n",
    "plt.show()"
   ]
  },
  {
   "cell_type": "code",
   "execution_count": 25,
   "metadata": {},
   "outputs": [
    {
     "data": {
      "image/png": "[encoded data removed]",
      "text/plain": [
       "<Figure size 432x288 with 1 Axes>"
      ]
     },
     "metadata": {
      "needs_background": "light"
     },
     "output_type": "display_data"
    }
   ],
   "source": [
    "plt.plot(df1.index, df1.Ia1)\n",
    "plt.plot(df1.index, df1.Ib1)\n",
    "plt.plot(df1.index, df1.Ic1)\n",
    "plt.grid(True)\n",
    "plt.show()"
   ]
  },
  {
   "cell_type": "code",
   "execution_count": 26,
   "metadata": {},
   "outputs": [
    {
     "name": "stdout",
     "output_type": "stream",
     "text": [
      "TRD Médio (Ia1, Ib1, Ic1) = 18.059620 %\n"
     ]
    }
   ],
   "source": [
    "TRD_1 = calculateTRD(df1['Ia1'], I_rated, 5)\n",
    "TRD_2 = calculateTRD(df1['Ib1'], I_rated, 5)\n",
    "TRD_3 = calculateTRD(df1['Ic1'], I_rated, 5)\n",
    "\n",
    "print('TRD Médio (Ia1, Ib1, Ic1) = %.6f %%' % np.mean([TRD_1, TRD_2, TRD_3]))"
   ]
  },
  {
   "cell_type": "code",
   "execution_count": 27,
   "metadata": {},
   "outputs": [],
   "source": [
    "df1 = df.copy()\n",
    "df1.index /= np.timedelta64(1, 's')\n",
    "\n",
    "df1 = df1[4/60:16/60]"
   ]
  },
  {
   "cell_type": "code",
   "execution_count": 28,
   "metadata": {},
   "outputs": [
    {
     "data": {
      "image/png": "[encoded data removed]",
      "text/plain": [
       "<Figure size 432x288 with 1 Axes>"
      ]
     },
     "metadata": {
      "needs_background": "light"
     },
     "output_type": "display_data"
    }
   ],
   "source": [
    "plt.plot(df1.index, df1.Ia1)\n",
    "plt.plot(df1.index, df1.Ib1)\n",
    "plt.plot(df1.index, df1.Ic1)\n",
    "plt.grid(True)\n",
    "plt.show()"
   ]
  },
  {
   "cell_type": "code",
   "execution_count": 31,
   "metadata": {},
   "outputs": [
    {
     "name": "stdout",
     "output_type": "stream",
     "text": [
      "Considerando Pnom = 100 kVA e Vnom = 220 V:\n",
      "\n",
      "TRD(Ia1) = 6.369520 %\n",
      "TRD(Ib2) = 6.379531 %\n",
      "TRD(Ic1) = 6.373710 %\n",
      "\n",
      "TRD Médio (Ia1, Ib1, Ic1) = 9.675935 %\n"
     ]
    }
   ],
   "source": [
    "Pnom = 100e3 # VA\n",
    "Vnom = 220 # V\n",
    "\n",
    "I_rated = Pnom/3/220\n",
    "\n",
    "print(\"Considerando Pnom = %d kVA e Vnom = %d V:\\n\" % (Pnom/1e3, Vnom))\n",
    "\n",
    "TRD_1 = calculateTRD(df1['Ia1'], I_rated, 5)\n",
    "print('TRD(Ia1) = %.6f %%' % calculateTRD(df1['Ia1'], I_rated, 12))\n",
    "\n",
    "TRD_2 = calculateTRD(df1['Ib1'], I_rated, 5)\n",
    "print('TRD(Ib2) = %.6f %%' % calculateTRD(df1['Ib1'], I_rated, 12))\n",
    "\n",
    "TRD_3 = calculateTRD(df1['Ic1'], I_rated, 5)\n",
    "print('TRD(Ic1) = %.6f %%' % calculateTRD(df1['Ic1'], I_rated, 12))\n",
    "\n",
    "print('\\nTRD Médio (Ia1, Ib1, Ic1) = %.6f %%' % np.mean([TRD_1, TRD_2, TRD_3]))"
   ]
  },
  {
   "cell_type": "code",
   "execution_count": 29,
   "metadata": {},
   "outputs": [
    {
     "name": "stdout",
     "output_type": "stream",
     "text": [
      "THD(2 * Vab + Vbc) = 0.786651 %\n"
     ]
    }
   ],
   "source": [
    "print('THD(2 * Vab + Vbc) = %.6f %%' % calculateTHD(2 * df1['Vab'] + df1['Vbc'], 12))"
   ]
  },
  {
   "cell_type": "markdown",
   "metadata": {},
   "source": [
    "## 4° Caso)  Droop"
   ]
  },
  {
   "cell_type": "code",
   "execution_count": null,
   "metadata": {},
   "outputs": [],
   "source": [
    "# MOSTRAR NO SPYDER"
   ]
  }
 ],
 "metadata": {
  "kernelspec": {
   "display_name": "Python 3",
   "language": "python",
   "name": "python3"
  },
  "language_info": {
   "codemirror_mode": {
    "name": "ipython",
    "version": 3
   },
   "file_extension": ".py",
   "mimetype": "text/x-python",
   "name": "python",
   "nbconvert_exporter": "python",
   "pygments_lexer": "ipython3",
   "version": "3.6.8"
  }
 },
 "nbformat": 4,
 "nbformat_minor": 2
}
