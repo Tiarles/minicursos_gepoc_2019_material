{
 "cells": [
  {
   "cell_type": "markdown",
   "metadata": {},
   "source": [
    "# Pandas Module"
   ]
  },
  {
   "cell_type": "code",
   "execution_count": null,
   "metadata": {},
   "outputs": [],
   "source": [
    "import matplotlib.pyplot as plt\n",
    "import pandas as pd"
   ]
  },
  {
   "cell_type": "markdown",
   "metadata": {},
   "source": [
    "## Reading a PSIM file"
   ]
  },
  {
   "cell_type": "code",
   "execution_count": null,
   "metadata": {},
   "outputs": [],
   "source": [
    "df1 = pd.read_csv('PD_12_04_2019.csv')"
   ]
  },
  {
   "cell_type": "code",
   "execution_count": null,
   "metadata": {},
   "outputs": [],
   "source": [
    "df1.head()"
   ]
  },
  {
   "cell_type": "code",
   "execution_count": null,
   "metadata": {},
   "outputs": [],
   "source": [
    "# https://pandas.pydata.org/pandas-docs/stable/reference/api/pandas.DataFrame.set_index.html\n",
    "df1 = df1.set_index('Time')"
   ]
  },
  {
   "cell_type": "code",
   "execution_count": null,
   "metadata": {},
   "outputs": [],
   "source": [
    "df1.head()"
   ]
  },
  {
   "cell_type": "code",
   "execution_count": null,
   "metadata": {},
   "outputs": [],
   "source": [
    "df1.tail()"
   ]
  },
  {
   "cell_type": "code",
   "execution_count": null,
   "metadata": {},
   "outputs": [],
   "source": [
    "Vab = df1['Vab']\n",
    "Vbc = df1['Vbc']"
   ]
  },
  {
   "cell_type": "code",
   "execution_count": null,
   "metadata": {},
   "outputs": [],
   "source": [
    "Vab.head()"
   ]
  },
  {
   "cell_type": "code",
   "execution_count": null,
   "metadata": {},
   "outputs": [],
   "source": [
    "plt.subplot(211)\n",
    "plt.plot(Vab.index, Vab)\n",
    "plt.grid(True)\n",
    "plt.subplot(212)\n",
    "plt.plot(Vbc.index, Vbc)\n",
    "plt.grid(True)\n",
    "plt.show()"
   ]
  },
  {
   "cell_type": "code",
   "execution_count": null,
   "metadata": {},
   "outputs": [],
   "source": [
    "time = np.array(Vab.index)\n",
    "Vab_a = np.array(Vab)\n",
    "\n",
    "f, Y = myFFT(time, Vab_a)"
   ]
  },
  {
   "cell_type": "code",
   "execution_count": null,
   "metadata": {},
   "outputs": [],
   "source": [
    "plt.plot(f, Y)\n",
    "plt.xlim(-1000, 200000)"
   ]
  },
  {
   "cell_type": "code",
   "execution_count": null,
   "metadata": {},
   "outputs": [],
   "source": [
    "plt.plot(f, Y)\n",
    "plt.xlim(-1000, 200000)\n",
    "plt.ylim(0, 120)"
   ]
  },
  {
   "cell_type": "code",
   "execution_count": null,
   "metadata": {},
   "outputs": [],
   "source": [
    "plt.plot(f, Y)\n",
    "plt.xlim(-10, 100)"
   ]
  },
  {
   "cell_type": "code",
   "execution_count": null,
   "metadata": {},
   "outputs": [],
   "source": [
    "time = np.array(Vbc.index)\n",
    "Vbc_a = np.array(Vbc)\n",
    "\n",
    "f, Y = myFFT(time, Vbc_a)\n",
    "plt.plot(f, Y)\n",
    "plt.xlim(-10, 100)"
   ]
  },
  {
   "cell_type": "markdown",
   "metadata": {},
   "source": [
    "## TRD and THD das medidas do DataFrame\n",
    "\n",
    "### Cálculo da THD\n",
    "\n",
    "$V = 2 \\times V_{ab} + \\times V_{bc} $\n",
    "\n",
    "$Y = myFFT(V)$\n",
    "\n",
    "### $THD \\ [\\%] = \\frac{\\sqrt{\\sum ^{50}_{h = 2} Y_h}}{Y_1} \\times 100$\n",
    "\n",
    "Onde,\n",
    "\n",
    "$Y_1$ = Amplitude da fundamental de $2 \\times V_{ab} + V_{bc}$\n",
    "\n",
    "$Y_h$ = Sub-harmônicas de $2 \\times V_{ab} + V_{bc}$"
   ]
  },
  {
   "cell_type": "code",
   "execution_count": null,
   "metadata": {},
   "outputs": [],
   "source": [
    "signal = 2 * Vab_a + Vbc_a\n",
    "\n",
    "print(\"THD(2 Vab + Vbc) = %.6f %%\" % calculateTHD(signal, 6))\n",
    "# ret = calculateTHD(signal, 6); ret"
   ]
  },
  {
   "cell_type": "markdown",
   "metadata": {},
   "source": [
    "### Cálculo da TRD\n",
    "\n",
    "$I = I(Ra)$\n",
    "\n",
    "$I_{rms} = rmsValue(I)$\n",
    "\n",
    "$Y = myFFT(I)$\n",
    "\n",
    "$I_{rated} = \\frac{P_{nom}}{3 Vnom}$\n",
    "\n",
    "### $TRD \\ [\\%] = \\frac{\\sqrt{I_{rms}^2 - Y_1^2}}{I_{rated}} \\times 100$\n",
    "\n",
    "Onde,\n",
    "\n",
    "$I_{rms}$ = Valor RMS de $I(Ra)$\n",
    "\n",
    "$Y_1$ = Amplitude da fundamental de $I$\n",
    "\n",
    "$I_{rated}$ = A corrente (RMS) média de cada fase do inversor\n"
   ]
  },
  {
   "cell_type": "code",
   "execution_count": null,
   "metadata": {},
   "outputs": [],
   "source": [
    "Ira = df1['I(Ra)']\n",
    "\n",
    "Pnom = 100e3 # VA\n",
    "Vnom = 220 # V\n",
    "\n",
    "Irated = Pnom/3/Vnom\n",
    "\n",
    "print(\"Considerando Pnom = %d kVA e Vnom = %d V:\" % (Pnom/1e3, Vnom))\n",
    "print(\"\\tTHD(Ira) = %.6f %%\" % calculateTRD(Ira, Irated, 6))"
   ]
  },
  {
   "cell_type": "code",
   "execution_count": null,
   "metadata": {},
   "outputs": [],
   "source": [
    "plt.plot(df1.index, Ira)\n",
    "plt.show()"
   ]
  },
  {
   "cell_type": "markdown",
   "metadata": {},
   "source": [
    "# Typhoon Module\n",
    "\n",
    "## Estrutura do código para execução de testes em esquemáticos da Typhoon:\n",
    "\n",
    "1. Importar a biblioteca  ``typhoon.api.hil``\n",
    "2. Carregar o modelo **compilado** do esquemático\n",
    "3. Setar as configurações de **estado inicial do circuito** de comutadores e conversores\n",
    "4. Setar as configurações **iniciais de simulação** (tempo, canais, passo de captura)\n",
    "5. Realizar a **captura**\n",
    "    1. Pode se durante a captura realizar **mudanças no estado** dos comutadores\n",
    "6. Obter os dados da captura e processá-los "
   ]
  },
  {
   "cell_type": "code",
   "execution_count": null,
   "metadata": {},
   "outputs": [],
   "source": [
    "# 1. Importar a biblioteca  ``typhoon.api.hil``\n",
    "\n",
    "import typhoon.api.hil as hil\n",
    "import numpy as np\n",
    "import pandas as pd\n",
    "import matplotlib.pyplot as plt"
   ]
  },
  {
   "cell_type": "markdown",
   "metadata": {},
   "source": [
    "## 1° Caso) Boost Closed Loop"
   ]
  },
  {
   "cell_type": "code",
   "execution_count": null,
   "metadata": {},
   "outputs": [],
   "source": [
    "# 2. Carregar o modelo **compilado** do esquemático\n",
    "\n",
    "filename = \"boost_closed_loop\"\n",
    "\n",
    "model_path = '{filename} Target files/{filename}.cpd'.format(filename=filename)\n",
    "\n",
    "hil.load_model(file=model_path, vhil_device=True)"
   ]
  },
  {
   "cell_type": "code",
   "execution_count": null,
   "metadata": {},
   "outputs": [],
   "source": [
    "hil.get_contactors()"
   ]
  },
  {
   "cell_type": "code",
   "execution_count": null,
   "metadata": {},
   "outputs": [],
   "source": [
    "hil.set_contactor?"
   ]
  },
  {
   "cell_type": "code",
   "execution_count": null,
   "metadata": {},
   "outputs": [],
   "source": [
    "hil.get_pe_switching_blocks()"
   ]
  },
  {
   "cell_type": "code",
   "execution_count": null,
   "metadata": {},
   "outputs": [],
   "source": [
    "hil.set_pe_switching_block_control_mode?"
   ]
  },
  {
   "cell_type": "code",
   "execution_count": null,
   "metadata": {},
   "outputs": [],
   "source": [
    "hil.get_sources()"
   ]
  },
  {
   "cell_type": "markdown",
   "metadata": {},
   "source": [
    "### Documentação"
   ]
  },
  {
   "cell_type": "code",
   "execution_count": null,
   "metadata": {},
   "outputs": [],
   "source": [
    "# Documentação do Boost Converter\n",
    "\n",
    "import webbrowser\n",
    "\n",
    "webbrowser.open(\"file:///C:/Typhoon%20HIL%20Control%20Center/\"+\n",
    "                \"typhoon/help/t-ug003/References/boost_converter.html\")"
   ]
  },
  {
   "cell_type": "code",
   "execution_count": null,
   "metadata": {},
   "outputs": [],
   "source": [
    "hil.get_analog_signals()"
   ]
  },
  {
   "cell_type": "code",
   "execution_count": null,
   "metadata": {
    "scrolled": true
   },
   "outputs": [],
   "source": [
    "hil.get_digital_signals()"
   ]
  },
  {
   "cell_type": "code",
   "execution_count": null,
   "metadata": {},
   "outputs": [],
   "source": [
    "# 3. Setar as configurações de **estado inicial do circuito** de comutadores e conversores\n",
    "\n",
    "hil.set_contactor('Load', swControl=True, swState=False)\n",
    "hil.set_pe_switching_block_control_mode(\n",
    "    blockName='BOOST', switchName='S1', swControl=False\n",
    ")\n",
    "hil.set_source_constant_value('Vin', 35)"
   ]
  },
  {
   "cell_type": "code",
   "execution_count": null,
   "metadata": {},
   "outputs": [],
   "source": [
    "# 4. Setar as configurações **iniciais de simulação** (tempo, canais, passo de captura)\n",
    "# 5. Realizar a **captura**\n",
    "\n",
    "channels = ['Iout', 'BOOST.PWM_Modulator_BOT_1', 'Vout', 'BOOST.PWM_Modulator_TOP_1', 'Load_fb']\n",
    "duration = 5\n",
    "cap_step = 2e-6\n",
    "rate = int(1//cap_step)\n",
    "\n",
    "hil.start_simulation()\n",
    "\n",
    "start_capture(duration, rate, channels)\n",
    "\n",
    "print('Waiting a sec')\n",
    "hil.wait_sec(1)\n",
    "print('Sec waited')\n",
    "\n",
    "hil.set_contactor('Load', True, True)\n",
    "\n",
    "df = get_capture_results(wait_capture=True)\n",
    "\n",
    "hil.stop_simulation()"
   ]
  },
  {
   "cell_type": "code",
   "execution_count": null,
   "metadata": {},
   "outputs": [],
   "source": [
    "df1 = df.copy()\n",
    "df1.index /= np.timedelta64(1, 's')"
   ]
  },
  {
   "cell_type": "code",
   "execution_count": null,
   "metadata": {},
   "outputs": [],
   "source": [
    "df1['Iout'].plot()"
   ]
  },
  {
   "cell_type": "code",
   "execution_count": null,
   "metadata": {},
   "outputs": [],
   "source": [
    "df1['Vout'].plot()"
   ]
  },
  {
   "cell_type": "code",
   "execution_count": null,
   "metadata": {},
   "outputs": [],
   "source": [
    "df1['Load_fb'].plot()"
   ]
  },
  {
   "cell_type": "code",
   "execution_count": null,
   "metadata": {},
   "outputs": [],
   "source": [
    "hil.set_contactor('Load', swControl=True, swState=False)\n",
    "hil.set_contactor('Load', True, True, executeAt=1)\n",
    "hil.set_contactor('Load', True, False, executeAt=2)"
   ]
  },
  {
   "cell_type": "code",
   "execution_count": null,
   "metadata": {},
   "outputs": [],
   "source": [
    "channels = ['Iout', 'BOOST.PWM_Modulator_BOT_1', 'Vout', 'BOOST.PWM_Modulator_TOP_1', 'Load_fb']\n",
    "duration = 5\n",
    "cap_step = 2e-6\n",
    "rate = int(1//cap_step)\n",
    "\n",
    "hil.start_simulation()\n",
    "\n",
    "start_capture(duration, rate, channels)\n",
    "\n",
    "hil.set_contactor('Load', True, False, executeAt=2)\n",
    "\n",
    "df = get_capture_results(wait_capture=True)\n",
    "\n",
    "hil.stop_simulation()"
   ]
  },
  {
   "cell_type": "code",
   "execution_count": null,
   "metadata": {},
   "outputs": [],
   "source": [
    "df1 = df.copy()\n",
    "df1.index /= np.timedelta64(1, 's')"
   ]
  },
  {
   "cell_type": "code",
   "execution_count": null,
   "metadata": {},
   "outputs": [],
   "source": [
    "df1['Iout'].plot()"
   ]
  },
  {
   "cell_type": "code",
   "execution_count": null,
   "metadata": {},
   "outputs": [],
   "source": [
    "df1['Vout'].plot()"
   ]
  },
  {
   "cell_type": "code",
   "execution_count": null,
   "metadata": {},
   "outputs": [],
   "source": [
    "df1['Load_fb'].plot()"
   ]
  },
  {
   "cell_type": "markdown",
   "metadata": {},
   "source": [
    "## 2° Caso) Two-Level Inverter"
   ]
  },
  {
   "cell_type": "code",
   "execution_count": null,
   "metadata": {},
   "outputs": [],
   "source": [
    "filename = \"two_level_carrier_based\"\n",
    "\n",
    "model_path = '{filename} Target files/{filename}.cpd'.format(filename=filename)\n",
    "\n",
    "hil.load_model(file=model_path, vhil_device=True)"
   ]
  },
  {
   "cell_type": "code",
   "execution_count": null,
   "metadata": {},
   "outputs": [],
   "source": [
    "hil.get_analog_signals() + hil.get_digital_signals() + \\\n",
    "hil.get_pe_switching_blocks() + hil.get_contactors() + \\\n",
    "hil.get_sources() + hil.get_scada_inputs()"
   ]
  },
  {
   "cell_type": "markdown",
   "metadata": {},
   "source": [
    "### Documentação"
   ]
  },
  {
   "cell_type": "code",
   "execution_count": null,
   "metadata": {},
   "outputs": [],
   "source": [
    "# Documentação do Two Level Rectifier\n",
    "\n",
    "import webbrowser\n",
    "\n",
    "webbrowser.open(\"file:///C:/Typhoon%20HIL%20Control%20Center/\" +\n",
    "                \"typhoon/help/t-ug003/References/\"+\n",
    "                \"three-phase_two-level_inverter_rectifier.html\")"
   ]
  },
  {
   "cell_type": "code",
   "execution_count": null,
   "metadata": {},
   "outputs": [],
   "source": [
    "for switch_name in ['Sa_top', 'Sa_bot', 'Sb_top', 'Sb_bot', 'Sc_top', 'Sb_bot']:\n",
    "    hil.set_pe_switching_block_control_mode(\n",
    "        blockName='Three Phase Inverter1', switchName=switch_name, swControl=False\n",
    "    )\n",
    "\n",
    "hil.set_source_constant_value('Vs1', 800)\n",
    "\n",
    "hil.set_scada_input_value('inductance', 50e-6)\n",
    "hil.set_scada_input_value('resistance', 100)\n",
    "hil.set_scada_input_value('modulation index', 1.0)"
   ]
  },
  {
   "cell_type": "code",
   "execution_count": null,
   "metadata": {},
   "outputs": [],
   "source": [
    "sa_bot = 'Three Phase Inverter1.IGBT Leg1.PWM_Modulator_BOT_1'\n",
    "sb_bot = 'Three Phase Inverter1.IGBT Leg2.PWM_Modulator_BOT_1'\n",
    "sc_bot = 'Three Phase Inverter1.IGBT Leg3.PWM_Modulator_BOT_1'\n",
    "\n",
    "channels = ['Vab', 'Vbc', 'Ia1', 'Ib1', 'Ic1', #'Three Phase Inverter1.IGBT Leg1.PWM_Modulator_BOT_1', \n",
    "            sa_bot, sb_bot, sc_bot]\n",
    "\n",
    "duration = 5\n",
    "rate = 200e3 #Hz\n",
    "\n",
    "hil.start_simulation()\n",
    "\n",
    "start_capture(duration, rate, channels)\n",
    "\n",
    "df = get_capture_results(wait_capture=True)\n",
    "\n",
    "hil.stop_simulation()"
   ]
  },
  {
   "cell_type": "code",
   "execution_count": null,
   "metadata": {},
   "outputs": [],
   "source": [
    "df1 = df.copy()\n",
    "df1.index /= np.timedelta64(1, 's')"
   ]
  },
  {
   "cell_type": "code",
   "execution_count": null,
   "metadata": {},
   "outputs": [],
   "source": [
    "df1['Vab'].plot()"
   ]
  },
  {
   "cell_type": "code",
   "execution_count": null,
   "metadata": {},
   "outputs": [],
   "source": [
    "# Slicing a dataframe\n",
    "df1 = df1[:5/60]"
   ]
  },
  {
   "cell_type": "code",
   "execution_count": null,
   "metadata": {},
   "outputs": [],
   "source": [
    "df1.tail()"
   ]
  },
  {
   "cell_type": "code",
   "execution_count": null,
   "metadata": {},
   "outputs": [],
   "source": [
    "df1['Vab'].plot()"
   ]
  },
  {
   "cell_type": "code",
   "execution_count": null,
   "metadata": {},
   "outputs": [],
   "source": [
    "plt.plot(df1.index, 2 * df1['Vab'] + df1['Vbc'])"
   ]
  },
  {
   "cell_type": "code",
   "execution_count": null,
   "metadata": {},
   "outputs": [],
   "source": [
    "print('THD(2 * Vab + Vbc) = %.6f %%' % calculateTHD(2 * df1['Vab'] + df1['Vbc'], 5))"
   ]
  },
  {
   "cell_type": "code",
   "execution_count": null,
   "metadata": {},
   "outputs": [],
   "source": [
    "Pnom = 100e3 # VA\n",
    "Vnom = 220 # V\n",
    "\n",
    "I_rated = Pnom/3/220\n",
    "\n",
    "print(\"Considerando Pnom = %d kVA e Vnom = %d V:\\n\" % (Pnom/1e3, Vnom))\n",
    "\n",
    "TRD_1 = calculateTRD(df1['Ia1'], I_rated, 5)\n",
    "print('TRD(Ia1) = %.6f %%' % calculateTRD(df1['Ia1'], I_rated, 5))\n",
    "\n",
    "TRD_2 = calculateTRD(df1['Ib1'], I_rated, 5)\n",
    "print('TRD(Ib2) = %.6f %%' % calculateTRD(df1['Ib1'], I_rated, 5))\n",
    "\n",
    "TRD_3 = calculateTRD(df1['Ic1'], I_rated, 5)\n",
    "print('TRD(Ic1) = %.6f %%' % calculateTRD(df1['Ic1'], I_rated, 5))\n",
    "\n",
    "print('\\nTRD Médio (Ia1, Ib1, Ic1) = %.6f %%' % np.mean([TRD_1, TRD_2, TRD_3]))"
   ]
  },
  {
   "cell_type": "code",
   "execution_count": null,
   "metadata": {},
   "outputs": [],
   "source": [
    "plt.plot(df1.index, df1['Ia1'])\n",
    "plt.plot(df1.index, df1['Ib1'])\n",
    "plt.plot(df1.index, df1['Ic1'])\n",
    "plt.show()"
   ]
  },
  {
   "cell_type": "code",
   "execution_count": null,
   "metadata": {},
   "outputs": [],
   "source": [
    "df1 = df.copy()\n",
    "df1.index /= np.timedelta64(1, 's')\n",
    "\n",
    "df1 = df1[5/60: 10/60]"
   ]
  },
  {
   "cell_type": "code",
   "execution_count": null,
   "metadata": {},
   "outputs": [],
   "source": [
    "plt.plot(df1.index, df1['Ia1'])\n",
    "plt.plot(df1.index, df1['Ib1'])\n",
    "plt.plot(df1.index, df1['Ic1'])\n",
    "plt.show()"
   ]
  },
  {
   "cell_type": "code",
   "execution_count": null,
   "metadata": {},
   "outputs": [],
   "source": [
    "print('THD(2 * Vab + Vbc) = %.6f %%' % calculateTHD(2 * df1['Vab'] + df1['Vbc'], 5))"
   ]
  },
  {
   "cell_type": "code",
   "execution_count": null,
   "metadata": {},
   "outputs": [],
   "source": [
    "Pnom = 100e3 # VA\n",
    "Vnom = 220 # V\n",
    "\n",
    "I_rated = Pnom/3/220\n",
    "\n",
    "print(\"Considerando Pnom = %d kVA e Vnom = %d V:\\n\" % (Pnom/1e3, Vnom))\n",
    "\n",
    "TRD_1 = calculateTRD(df1['Ia1'], I_rated, 5)\n",
    "print('TRD(Ia1) = %.6f %%' % calculateTRD(df1['Ia1'], I_rated, 5))\n",
    "\n",
    "TRD_2 = calculateTRD(df1['Ib1'], I_rated, 5)\n",
    "print('TRD(Ib2) = %.6f %%' % calculateTRD(df1['Ib1'], I_rated, 5))\n",
    "\n",
    "TRD_3 = calculateTRD(df1['Ic1'], I_rated, 5)\n",
    "print('TRD(Ic1) = %.6f %%' % calculateTRD(df1['Ic1'], I_rated, 5))\n",
    "\n",
    "print('\\nTRD Médio (Ia1, Ib1, Ic1) = %.6f %%' % np.mean([TRD_1, TRD_2, TRD_3]))"
   ]
  },
  {
   "cell_type": "code",
   "execution_count": null,
   "metadata": {},
   "outputs": [],
   "source": [
    "plt.plot(df1.index, df1[sa_bot], label='sa_bot')\n",
    "plt.plot(df1.index, df1[sb_bot] - 1.25, label='sb_bot')\n",
    "plt.plot(df1.index, df1[sc_bot] - 2.5, label='sc_bot')\n",
    "\n",
    "min = df1.index[0]\n",
    "plt.xlim(min, min+.1/60)\n",
    "plt.legend()"
   ]
  },
  {
   "cell_type": "markdown",
   "metadata": {},
   "source": [
    "#### Exercício: Desenvolver um contador de comutações por segundo"
   ]
  },
  {
   "cell_type": "code",
   "execution_count": null,
   "metadata": {},
   "outputs": [],
   "source": [
    "comA = np.array(df1[sa_bot])[:200]\n",
    "plt.plot(comA)"
   ]
  },
  {
   "cell_type": "code",
   "execution_count": null,
   "metadata": {},
   "outputs": [],
   "source": [
    "aux1 = comA[:-1]\n",
    "aux2 = comA[1:]\n",
    "\n",
    "diff = aux2 - aux1\n",
    "plt.plot(diff)"
   ]
  },
  {
   "cell_type": "code",
   "execution_count": null,
   "metadata": {},
   "outputs": [],
   "source": [
    "diff_abs = np.abs(diff)\n",
    "plt.plot(diff_abs)"
   ]
  },
  {
   "cell_type": "code",
   "execution_count": null,
   "metadata": {},
   "outputs": [],
   "source": [
    "n_com = np.sum(diff_abs == True); n_com"
   ]
  },
  {
   "cell_type": "code",
   "execution_count": null,
   "metadata": {},
   "outputs": [],
   "source": [
    "def commutationCount(signal, n_cycles, fnom=60):\n",
    "    aux1 = signal[:-1]\n",
    "    aux2 = signal[1:]\n",
    "\n",
    "    diff = aux2 - aux1\n",
    "    \n",
    "    print()\n",
    "    \n",
    "    diff_abs = np.abs(diff)\n",
    "\n",
    "    n_com = np.sum(diff_abs == True)\n",
    "    \n",
    "    return n_com * fnom/n_cycles\n",
    "\n",
    "comA = np.array(df1[sa_bot])\n",
    "commutationCount(comA, 5)"
   ]
  },
  {
   "cell_type": "markdown",
   "metadata": {},
   "source": [
    "**Espero terminar Aqui!**"
   ]
  },
  {
   "cell_type": "markdown",
   "metadata": {},
   "source": [
    "## 3° Caso) NPC"
   ]
  },
  {
   "cell_type": "code",
   "execution_count": null,
   "metadata": {},
   "outputs": [],
   "source": [
    "filename = \"NPC_SVM\"\n",
    "\n",
    "model_path = '{filename} Target files/{filename}.cpd'.format(filename=filename)\n",
    "\n",
    "hil.load_model(file=model_path, vhil_device=True)"
   ]
  },
  {
   "cell_type": "code",
   "execution_count": null,
   "metadata": {},
   "outputs": [],
   "source": [
    "hil.get_sources() + hil.get_pe_switching_blocks() + \\\n",
    "hil.get_scada_inputs() + hil.get_contactors() + \\\n",
    "hil.get_analog_signals() + hil.get_digital_signals()"
   ]
  },
  {
   "cell_type": "markdown",
   "metadata": {},
   "source": [
    "### Documentação"
   ]
  },
  {
   "cell_type": "code",
   "execution_count": null,
   "metadata": {},
   "outputs": [],
   "source": [
    "# Documentação do NPC Leg\n",
    "\n",
    "import webbrowser\n",
    "\n",
    "webbrowser.open(\"file:///C:/Typhoon%20HIL%20Control%20Center/\" +\n",
    "                \"typhoon/help/t-ug003/References/npc_leg.html\")"
   ]
  },
  {
   "cell_type": "code",
   "execution_count": null,
   "metadata": {},
   "outputs": [],
   "source": [
    "legs = ['LegA', 'LegB', 'LegC']\n",
    "switchs = ['S1', 'S2', 'S3', 'S4']\n",
    "\n",
    "for leg in legs:\n",
    "    for switch in switchs:\n",
    "        hil.set_pe_switching_block_control_mode(\n",
    "            blockName=leg, switchName=switch, swControl=False\n",
    "        )\n",
    "\n",
    "hil.set_source_constant_value('Vs1', 800)\n",
    "\n",
    "hil.set_scada_input_value('inductance', 50e-6)\n",
    "hil.set_scada_input_value('resistance', 100)\n",
    "hil.set_scada_input_value('modulation index', 1.0)"
   ]
  },
  {
   "cell_type": "code",
   "execution_count": null,
   "metadata": {},
   "outputs": [],
   "source": [
    "sa_bot_1 = 'LegA.PWM_Modulator_BOT_1'\n",
    "sa_bot_2 = 'LegA.PWM_Modulator_BOT_2'\n",
    "sb_bot_1 = 'LegB.PWM_Modulator_BOT_1'\n",
    "sb_bot_2 = 'LegB.PWM_Modulator_BOT_2'\n",
    "sc_bot_1 = 'LegC.PWM_Modulator_BOT_1'\n",
    "sc_bot_2 = 'LegC.PWM_Modulator_BOT_2'\n",
    "\n",
    "channels = ['Vab', 'Vbc', 'Ia1', 'Ib1', 'Ic1',\n",
    "            sa_bot_1, sa_bot_2, sb_bot_1, sb_bot_2, sc_bot_1, sc_bot_2]\n",
    "\n",
    "duration = 5\n",
    "rate = 200e3 #Hz\n",
    "\n",
    "hil.start_simulation()\n",
    "\n",
    "start_capture(duration, rate, channels)\n",
    "\n",
    "df = get_capture_results(wait_capture=True)\n",
    "\n",
    "hil.stop_simulation()"
   ]
  },
  {
   "cell_type": "code",
   "execution_count": null,
   "metadata": {},
   "outputs": [],
   "source": [
    "df1 = df.copy()\n",
    "df1.index /= np.timedelta64(1, 's')\n",
    "\n",
    "df1 = df1[:12/60]"
   ]
  },
  {
   "cell_type": "code",
   "execution_count": null,
   "metadata": {},
   "outputs": [],
   "source": [
    "plt.subplot(211)\n",
    "plt.plot(df1.index, df1.Vab)\n",
    "plt.grid(True)\n",
    "plt.subplot(212)\n",
    "plt.plot(df1.index, df1.Vbc)\n",
    "plt.grid(True)\n",
    "plt.show()"
   ]
  },
  {
   "cell_type": "code",
   "execution_count": null,
   "metadata": {},
   "outputs": [],
   "source": [
    "plt.plot(df1.index, df1.Ia1)\n",
    "plt.plot(df1.index, df1.Ib1)\n",
    "plt.plot(df1.index, df1.Ic1)\n",
    "plt.grid(True)\n",
    "plt.show()"
   ]
  },
  {
   "cell_type": "code",
   "execution_count": null,
   "metadata": {},
   "outputs": [],
   "source": [
    "TRD_1 = calculateTRD(df1['Ia1'], I_rated, 5)\n",
    "TRD_2 = calculateTRD(df1['Ib1'], I_rated, 5)\n",
    "TRD_3 = calculateTRD(df1['Ic1'], I_rated, 5)\n",
    "\n",
    "print('TRD Médio (Ia1, Ib1, Ic1) = %.6f %%' % np.mean([TRD_1, TRD_2, TRD_3]))"
   ]
  },
  {
   "cell_type": "code",
   "execution_count": null,
   "metadata": {},
   "outputs": [],
   "source": [
    "df1 = df.copy()\n",
    "df1.index /= np.timedelta64(1, 's')\n",
    "\n",
    "df1 = df1[4/60:16/60]"
   ]
  },
  {
   "cell_type": "code",
   "execution_count": null,
   "metadata": {},
   "outputs": [],
   "source": [
    "plt.plot(df1.index, df1.Ia1)\n",
    "plt.plot(df1.index, df1.Ib1)\n",
    "plt.plot(df1.index, df1.Ic1)\n",
    "plt.grid(True)\n",
    "plt.show()"
   ]
  },
  {
   "cell_type": "code",
   "execution_count": null,
   "metadata": {},
   "outputs": [],
   "source": [
    "Pnom = 100e3 # VA\n",
    "Vnom = 220 # V\n",
    "\n",
    "I_rated = Pnom/3/220\n",
    "\n",
    "print(\"Considerando Pnom = %d kVA e Vnom = %d V:\\n\" % (Pnom/1e3, Vnom))\n",
    "\n",
    "TRD_1 = calculateTRD(df1['Ia1'], I_rated, 5)\n",
    "print('TRD(Ia1) = %.6f %%' % calculateTRD(df1['Ia1'], I_rated, 12))\n",
    "\n",
    "TRD_2 = calculateTRD(df1['Ib1'], I_rated, 5)\n",
    "print('TRD(Ib2) = %.6f %%' % calculateTRD(df1['Ib1'], I_rated, 12))\n",
    "\n",
    "TRD_3 = calculateTRD(df1['Ic1'], I_rated, 5)\n",
    "print('TRD(Ic1) = %.6f %%' % calculateTRD(df1['Ic1'], I_rated, 12))\n",
    "\n",
    "print('\\nTRD Médio (Ia1, Ib1, Ic1) = %.6f %%' % np.mean([TRD_1, TRD_2, TRD_3]))"
   ]
  },
  {
   "cell_type": "code",
   "execution_count": null,
   "metadata": {},
   "outputs": [],
   "source": [
    "print('THD(2 * Vab + Vbc) = %.6f %%' % calculateTHD(2 * df1['Vab'] + df1['Vbc'], 12))"
   ]
  },
  {
   "cell_type": "markdown",
   "metadata": {},
   "source": [
    "## 4° Caso)  Droop"
   ]
  },
  {
   "cell_type": "code",
   "execution_count": null,
   "metadata": {},
   "outputs": [],
   "source": [
    "# MOSTRAR NO SPYDER"
   ]
  }
 ],
 "metadata": {
  "kernelspec": {
   "display_name": "Python 3",
   "language": "python",
   "name": "python3"
  },
  "language_info": {
   "codemirror_mode": {
    "name": "ipython",
    "version": 3
   },
   "file_extension": ".py",
   "mimetype": "text/x-python",
   "name": "python",
   "nbconvert_exporter": "python",
   "pygments_lexer": "ipython3",
   "version": "3.6.8"
  }
 },
 "nbformat": 4,
 "nbformat_minor": 2
}
